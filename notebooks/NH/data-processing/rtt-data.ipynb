{
 "cells": [
  {
   "cell_type": "code",
   "execution_count": 1,
   "id": "7a3be842-6cd1-4c6b-b1f1-f849a1296ac1",
   "metadata": {},
   "outputs": [],
   "source": [
    "import pandas as pd\n",
    "from pathlib import Path"
   ]
  },
  {
   "cell_type": "code",
   "execution_count": 2,
   "id": "bf2a9aa8-ec6b-4975-97c3-c8450afc18d7",
   "metadata": {},
   "outputs": [],
   "source": [
    "dirname = Path(\n",
    "    \"/Users/nicholashand/Software/phl-budget-data/src/phl_budget_data/data/etl/processed/collections/by-sector/rtt/\"\n",
    ")"
   ]
  },
  {
   "cell_type": "code",
   "execution_count": 3,
   "id": "6a1e6b3f-99b0-4b16-a02e-3806168d16c5",
   "metadata": {},
   "outputs": [],
   "source": [
    "files = dirname.glob(\"*.csv\")"
   ]
  },
  {
   "cell_type": "code",
   "execution_count": 4,
   "id": "bc06d003-7397-4173-81f5-eb4543456cdc",
   "metadata": {},
   "outputs": [],
   "source": [
    "data = []\n",
    "for f in files:\n",
    "    \n",
    "    tag = f.stem\n",
    "    year, month = tag.split(\"_\")\n",
    "    year = int(year)\n",
    "    month = int(month)\n",
    "    \n",
    "    data.append(pd.read_csv(f).assign(year=year, month=month))\n",
    "    \n",
    "data = pd.concat(data)"
   ]
  },
  {
   "cell_type": "code",
   "execution_count": 5,
   "id": "9eab668f-019f-40ae-98f5-b250bbf832ec",
   "metadata": {},
   "outputs": [
    {
     "data": {
      "text/html": [
       "<div>\n",
       "<style scoped>\n",
       "    .dataframe tbody tr th:only-of-type {\n",
       "        vertical-align: middle;\n",
       "    }\n",
       "\n",
       "    .dataframe tbody tr th {\n",
       "        vertical-align: top;\n",
       "    }\n",
       "\n",
       "    .dataframe thead th {\n",
       "        text-align: right;\n",
       "    }\n",
       "</style>\n",
       "<table border=\"1\" class=\"dataframe\">\n",
       "  <thead>\n",
       "    <tr style=\"text-align: right;\">\n",
       "      <th></th>\n",
       "      <th>sector</th>\n",
       "      <th>num_records</th>\n",
       "      <th>total</th>\n",
       "      <th>parent_sector</th>\n",
       "      <th>year</th>\n",
       "      <th>month</th>\n",
       "    </tr>\n",
       "  </thead>\n",
       "  <tbody>\n",
       "    <tr>\n",
       "      <th>0</th>\n",
       "      <td>General Commercial</td>\n",
       "      <td>78.0</td>\n",
       "      <td>1701873.0</td>\n",
       "      <td>Non-Residential</td>\n",
       "      <td>2015</td>\n",
       "      <td>1</td>\n",
       "    </tr>\n",
       "    <tr>\n",
       "      <th>1</th>\n",
       "      <td>Office Buildings, Hotels and Garages</td>\n",
       "      <td>4.0</td>\n",
       "      <td>338250.0</td>\n",
       "      <td>Non-Residential</td>\n",
       "      <td>2015</td>\n",
       "      <td>1</td>\n",
       "    </tr>\n",
       "    <tr>\n",
       "      <th>2</th>\n",
       "      <td>Industrial</td>\n",
       "      <td>30.0</td>\n",
       "      <td>822159.0</td>\n",
       "      <td>Non-Residential</td>\n",
       "      <td>2015</td>\n",
       "      <td>1</td>\n",
       "    </tr>\n",
       "    <tr>\n",
       "      <th>3</th>\n",
       "      <td>Other Non-Residential</td>\n",
       "      <td>94.0</td>\n",
       "      <td>638214.0</td>\n",
       "      <td>Non-Residential</td>\n",
       "      <td>2015</td>\n",
       "      <td>1</td>\n",
       "    </tr>\n",
       "    <tr>\n",
       "      <th>4</th>\n",
       "      <td>Non-Residential</td>\n",
       "      <td>206.0</td>\n",
       "      <td>3500496.0</td>\n",
       "      <td>NaN</td>\n",
       "      <td>2015</td>\n",
       "      <td>1</td>\n",
       "    </tr>\n",
       "  </tbody>\n",
       "</table>\n",
       "</div>"
      ],
      "text/plain": [
       "                                 sector  num_records      total  \\\n",
       "0                    General Commercial         78.0  1701873.0   \n",
       "1  Office Buildings, Hotels and Garages          4.0   338250.0   \n",
       "2                            Industrial         30.0   822159.0   \n",
       "3                 Other Non-Residential         94.0   638214.0   \n",
       "4                       Non-Residential        206.0  3500496.0   \n",
       "\n",
       "     parent_sector  year  month  \n",
       "0  Non-Residential  2015      1  \n",
       "1  Non-Residential  2015      1  \n",
       "2  Non-Residential  2015      1  \n",
       "3  Non-Residential  2015      1  \n",
       "4              NaN  2015      1  "
      ]
     },
     "execution_count": 5,
     "metadata": {},
     "output_type": "execute_result"
    }
   ],
   "source": [
    "data.head()"
   ]
  },
  {
   "cell_type": "code",
   "execution_count": 9,
   "id": "2347e1da-3fb9-4007-8bb1-5aada25979e2",
   "metadata": {},
   "outputs": [],
   "source": [
    "data[\"date\"] = pd.to_datetime(data[\"month\"].astype(str) + \"/\" + data[\"year\"].astype(str))"
   ]
  },
  {
   "cell_type": "code",
   "execution_count": 14,
   "id": "8888e8bd-b10e-4ffb-9c86-00bc9f4ebe8c",
   "metadata": {},
   "outputs": [],
   "source": [
    "quarterly_data = (\n",
    "    data.query(\"year < 2021\")\n",
    "    .groupby([pd.Grouper(freq=\"QS\", key=\"date\"), \"sector\"])[[\"num_records\", \"total\"]]\n",
    "    .sum()\n",
    "    .reset_index()\n",
    ")"
   ]
  },
  {
   "cell_type": "code",
   "execution_count": 16,
   "id": "ec42ea65-103c-4526-9ce7-fe2553a5b07b",
   "metadata": {},
   "outputs": [],
   "source": [
    "quarterly_data.to_excel(\n",
    "    \"../../../data/01_raw/historical/rtt/quarterly-rtt-data.xlsx\", index=False\n",
    ")"
   ]
  },
  {
   "cell_type": "code",
   "execution_count": null,
   "id": "d2a0c6d3-744d-4eec-ac8e-3e30fce3d1de",
   "metadata": {},
   "outputs": [],
   "source": []
  }
 ],
 "metadata": {
  "kernelspec": {
   "display_name": "Kedro (fyp_analysis)",
   "language": "python",
   "name": "kedro_fyp_analysis"
  },
  "language_info": {
   "codemirror_mode": {
    "name": "ipython",
    "version": 3
   },
   "file_extension": ".py",
   "mimetype": "text/x-python",
   "name": "python",
   "nbconvert_exporter": "python",
   "pygments_lexer": "ipython3",
   "version": "3.9.7"
  }
 },
 "nbformat": 4,
 "nbformat_minor": 5
}
