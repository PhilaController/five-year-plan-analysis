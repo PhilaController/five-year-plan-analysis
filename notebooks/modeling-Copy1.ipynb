{
 "cells": [
  {
   "cell_type": "markdown",
   "metadata": {
    "papermill": {
     "duration": 0.139638,
     "end_time": "2020-07-09T01:46:36.924518",
     "exception": false,
     "start_time": "2020-07-09T01:46:36.784880",
     "status": "completed"
    },
    "tags": []
   },
   "source": [
    "# FYP 2022-2026: Preprocessing + Modeling"
   ]
  },
  {
   "cell_type": "code",
   "execution_count": null,
   "metadata": {},
   "outputs": [],
   "source": [
    "%reload_kedro"
   ]
  },
  {
   "cell_type": "code",
   "execution_count": null,
   "metadata": {},
   "outputs": [],
   "source": [
    "import pandas as pd"
   ]
  },
  {
   "cell_type": "code",
   "execution_count": null,
   "metadata": {},
   "outputs": [],
   "source": [
    "from fyp_analysis.pipelines.modeling.predict.utils import get_possible_endog_variables\n",
    "from fyp_analysis.pipelines.modeling.predict.core import (\n",
    "    run_possible_models,\n",
    "    fit_var_model,\n",
    ")\n",
    "from fyp_analysis.pipelines.modeling.predict.viz import plot_fit\n",
    "\n",
    "from fyp_analysis.pipelines.data_processing.preprocess.core import PreprocessPipeline\n",
    "from fyp_analysis.extras.datasets.cbo import load_cbo_data"
   ]
  },
  {
   "cell_type": "code",
   "execution_count": null,
   "metadata": {},
   "outputs": [],
   "source": [
    "DATA = catalog\n",
    "PARAMS = context.params"
   ]
  },
  {
   "cell_type": "code",
   "execution_count": null,
   "metadata": {
    "papermill": {
     "duration": 0.107041,
     "end_time": "2020-07-09T01:46:39.323680",
     "exception": false,
     "start_time": "2020-07-09T01:46:39.216639",
     "status": "completed"
    },
    "tags": []
   },
   "outputs": [],
   "source": [
    "pd.options.display.max_columns = 999"
   ]
  },
  {
   "cell_type": "code",
   "execution_count": null,
   "metadata": {},
   "outputs": [],
   "source": [
    "DATA.list()"
   ]
  },
  {
   "cell_type": "code",
   "execution_count": null,
   "metadata": {},
   "outputs": [],
   "source": [
    "min_year = PARAMS['min_feature_year']\n",
    "cbo_forecast_date = PARAMS['cbo_forecast_date']\n",
    "max_fit_date = PARAMS['max_fit_date']\n",
    "plan_start_year = PARAMS['plan_start_year']"
   ]
  },
  {
   "cell_type": "code",
   "execution_count": null,
   "metadata": {},
   "outputs": [],
   "source": [
    "C = DATA.load(\"scaled_feature_correlations\")\n",
    "G = DATA.load(\"scaled_feature_correlations\")"
   ]
  },
  {
   "cell_type": "code",
   "execution_count": null,
   "metadata": {},
   "outputs": [],
   "source": [
    "unscaled_features = DATA.load(\"final_unscaled_features\")"
   ]
  },
  {
   "cell_type": "code",
   "execution_count": null,
   "metadata": {},
   "outputs": [],
   "source": [
    "guide = DATA.load(\"stationary_guide\")\n",
    "preprocess = PreprocessPipeline(guide)"
   ]
  },
  {
   "cell_type": "code",
   "execution_count": null,
   "metadata": {},
   "outputs": [],
   "source": [
    "cbo_data = load_cbo_data(date=cbo_forecast_date)\n",
    "cbo_columns = cbo_data.columns.tolist()"
   ]
  },
  {
   "cell_type": "markdown",
   "metadata": {
    "papermill": {
     "duration": 0.081994,
     "end_time": "2020-07-09T01:46:48.673887",
     "exception": false,
     "start_time": "2020-07-09T01:46:48.591893",
     "status": "completed"
    },
    "tags": []
   },
   "source": [
    "# Forecasts"
   ]
  },
  {
   "cell_type": "code",
   "execution_count": null,
   "metadata": {
    "papermill": {
     "duration": 0.093018,
     "end_time": "2020-07-09T01:46:48.853266",
     "exception": false,
     "start_time": "2020-07-09T01:46:48.760248",
     "status": "completed"
    },
    "tags": []
   },
   "outputs": [],
   "source": [
    "all_bestfit_params = {}\n",
    "all_comparisons = {}\n",
    "all_tax_bases = {}"
   ]
  },
  {
   "cell_type": "markdown",
   "metadata": {
    "papermill": {
     "duration": 0.086667,
     "end_time": "2020-07-09T01:46:49.023860",
     "exception": false,
     "start_time": "2020-07-09T01:46:48.937193",
     "status": "completed"
    },
    "tags": []
   },
   "source": [
    "## Wage"
   ]
  },
  {
   "cell_type": "code",
   "execution_count": null,
   "metadata": {
    "papermill": {
     "duration": 0.098563,
     "end_time": "2020-07-09T01:46:49.400253",
     "exception": false,
     "start_time": "2020-07-09T01:46:49.301690",
     "status": "completed"
    },
    "tags": []
   },
   "outputs": [],
   "source": [
    "C['D.Ln.WageBase'].sort_values().head(n=10)"
   ]
  },
  {
   "cell_type": "code",
   "execution_count": null,
   "metadata": {
    "papermill": {
     "duration": 0.101371,
     "end_time": "2020-07-09T01:46:49.592345",
     "exception": false,
     "start_time": "2020-07-09T01:46:49.490974",
     "status": "completed"
    },
    "tags": []
   },
   "outputs": [],
   "source": [
    "C['D.Ln.WageBase'].sort_values().tail(n=10)"
   ]
  },
  {
   "cell_type": "code",
   "execution_count": null,
   "metadata": {
    "papermill": {
     "duration": 0.115886,
     "end_time": "2020-07-09T01:46:49.795505",
     "exception": false,
     "start_time": "2020-07-09T01:46:49.679619",
     "status": "completed"
    },
    "tags": []
   },
   "outputs": [],
   "source": [
    "get_possible_endog_variables(G, \"WageBase\", alpha=0.05)"
   ]
  },
  {
   "cell_type": "code",
   "execution_count": null,
   "metadata": {
    "papermill": {
     "duration": 68.918069,
     "end_time": "2020-07-09T01:47:58.819366",
     "exception": false,
     "start_time": "2020-07-09T01:46:49.901297",
     "status": "completed"
    },
    "tags": []
   },
   "outputs": [],
   "source": [
    "wage_fits = run_possible_models(\n",
    "    unscaled_features,\n",
    "    preprocess,\n",
    "    main_endog=\"WageBase\",\n",
    "    other_endog=[\n",
    "        \"InitialClaimsPA\",\n",
    "        \"NonfarmEmployeesPhilly\",\n",
    "        \"NonfarmEmployeesPhillyMSA\",\n",
    "        \"UnemploymentPhillyMSA\",\n",
    "        \"UnemploymentPhilly\",\n",
    "        \"PrimeEPOP\",\n",
    "    ],\n",
    "    orders=[2, 3, 4, 5, 6, 7, 8],\n",
    "    grangers=G,\n",
    "    max_fit_date=\"2019-12-31\",\n",
    "    cbo_columns=cbo_columns,\n",
    "    alpha=0.05,\n",
    "    max_exog=4,\n",
    "    split_year=2014,\n",
    "    max_other_endog=2,\n",
    "    model_quarters=True\n",
    ")"
   ]
  },
  {
   "cell_type": "code",
   "execution_count": null,
   "metadata": {
    "papermill": {
     "duration": 0.097752,
     "end_time": "2020-07-09T01:47:59.010579",
     "exception": false,
     "start_time": "2020-07-09T01:47:58.912827",
     "status": "completed"
    },
    "tags": []
   },
   "outputs": [],
   "source": [
    "best_params = wage_fits[0]\n",
    "best_params"
   ]
  },
  {
   "cell_type": "code",
   "execution_count": null,
   "metadata": {
    "papermill": {
     "duration": 0.406433,
     "end_time": "2020-07-09T01:47:59.509777",
     "exception": false,
     "start_time": "2020-07-09T01:47:59.103344",
     "status": "completed"
    },
    "tags": []
   },
   "outputs": [],
   "source": [
    "result, forecast = fit_var_model(\n",
    "    unscaled_features,\n",
    "    preprocess,\n",
    "    plan_start_year=plan_start_year,\n",
    "    max_fit_date=\"2019-12-31\",\n",
    "    cbo_data=cbo_data,\n",
    "    endog_cols=best_params[\"endog_cols\"],\n",
    "    order=best_params[\"order\"],\n",
    "    exog_cols=best_params[\"exog_cols\"],\n",
    "    model_quarters=best_params['model_quarters']\n",
    ")\n",
    "print(result.aic)"
   ]
  },
  {
   "cell_type": "code",
   "execution_count": null,
   "metadata": {
    "papermill": {
     "duration": 0.109039,
     "end_time": "2020-07-09T01:47:59.720595",
     "exception": false,
     "start_time": "2020-07-09T01:47:59.611556",
     "status": "completed"
    },
    "tags": []
   },
   "outputs": [],
   "source": [
    "result.summary()"
   ]
  },
  {
   "cell_type": "code",
   "execution_count": null,
   "metadata": {
    "papermill": {
     "duration": 1.348711,
     "end_time": "2020-07-09T01:48:01.173942",
     "exception": false,
     "start_time": "2020-07-09T01:47:59.825231",
     "status": "completed"
    },
    "tags": []
   },
   "outputs": [],
   "source": [
    "fig = plot_fit(forecast, \"WageBase\");"
   ]
  },
  {
   "cell_type": "markdown",
   "metadata": {
    "papermill": {
     "duration": 0.095579,
     "end_time": "2020-07-09T01:48:01.362085",
     "exception": false,
     "start_time": "2020-07-09T01:48:01.266506",
     "status": "completed"
    },
    "tags": []
   },
   "source": [
    "### FYP Comparison"
   ]
  },
  {
   "cell_type": "code",
   "execution_count": null,
   "metadata": {
    "papermill": {
     "duration": 1.021869,
     "end_time": "2020-07-09T01:48:02.478634",
     "exception": false,
     "start_time": "2020-07-09T01:48:01.456765",
     "status": "completed"
    },
    "tags": []
   },
   "outputs": [],
   "source": [
    "# Calculate avg forecast\n",
    "forecast_wage_base, fits = get_avg_forecast_from_fits(\n",
    "    get_selected_features(data, min_year), wage_fits, \"WageBase\"\n",
    ")\n",
    "\n",
    "all_bestfit_params[\"Wage\"] = fits"
   ]
  },
  {
   "cell_type": "code",
   "execution_count": null,
   "metadata": {
    "execution": {
     "iopub.execute_input": "2020-07-09T01:48:02.677158Z",
     "iopub.status.busy": "2020-07-09T01:48:02.676458Z",
     "iopub.status.idle": "2020-07-09T01:48:02.679142Z",
     "shell.execute_reply": "2020-07-09T01:48:02.679652Z"
    },
    "papermill": {
     "duration": 0.107177,
     "end_time": "2020-07-09T01:48:02.679837",
     "exception": false,
     "start_time": "2020-07-09T01:48:02.572660",
     "status": "completed"
    },
    "tags": []
   },
   "outputs": [],
   "source": [
    "(forecast_wage_base.diff() / forecast_wage_base.shift()).tail(n=7)"
   ]
  },
  {
   "cell_type": "code",
   "execution_count": null,
   "metadata": {
    "execution": {
     "iopub.execute_input": "2020-07-09T01:48:02.897728Z",
     "iopub.status.busy": "2020-07-09T01:48:02.896934Z",
     "iopub.status.idle": "2020-07-09T01:48:02.899316Z",
     "shell.execute_reply": "2020-07-09T01:48:02.899818Z"
    },
    "papermill": {
     "duration": 0.115661,
     "end_time": "2020-07-09T01:48:02.900139",
     "exception": false,
     "start_time": "2020-07-09T01:48:02.784478",
     "status": "completed"
    },
    "tags": []
   },
   "outputs": [],
   "source": [
    "wageTax = TAXES['Wage'](add_net_accrual=True)"
   ]
  },
  {
   "cell_type": "code",
   "execution_count": null,
   "metadata": {
    "execution": {
     "iopub.execute_input": "2020-07-09T01:48:03.109739Z",
     "iopub.status.busy": "2020-07-09T01:48:03.108749Z",
     "iopub.status.idle": "2020-07-09T01:48:03.204825Z",
     "shell.execute_reply": "2020-07-09T01:48:03.205260Z"
    },
    "papermill": {
     "duration": 0.207577,
     "end_time": "2020-07-09T01:48:03.205417",
     "exception": false,
     "start_time": "2020-07-09T01:48:02.997840",
     "status": "completed"
    },
    "tags": []
   },
   "outputs": [],
   "source": [
    "all_comparisons[\"Wage\"] = (\n",
    "    wageTax.get_mayor_comparison(forecast_wage_base).loc[2020:]\n",
    "    .assign(WageRevenueBudget=lambda df: df.WageRevenueBudget.fillna(df.WageRevenue))\n",
    "    .rename(\n",
    "        columns={\"WageRevenueBudget\": \"Five Year Plan\", \"WageRevenue\": \"Controller\"}\n",
    "    )\n",
    ")\n",
    "\n",
    "all_tax_bases['Wage'] = forecast_wage_base"
   ]
  },
  {
   "cell_type": "code",
   "execution_count": null,
   "metadata": {
    "execution": {
     "iopub.execute_input": "2020-07-09T01:48:03.418599Z",
     "iopub.status.busy": "2020-07-09T01:48:03.417902Z",
     "iopub.status.idle": "2020-07-09T01:48:03.420599Z",
     "shell.execute_reply": "2020-07-09T01:48:03.421213Z"
    },
    "papermill": {
     "duration": 0.119771,
     "end_time": "2020-07-09T01:48:03.421369",
     "exception": false,
     "start_time": "2020-07-09T01:48:03.301598",
     "status": "completed"
    },
    "tags": []
   },
   "outputs": [],
   "source": [
    "all_comparisons['Wage']/1e6"
   ]
  },
  {
   "cell_type": "code",
   "execution_count": null,
   "metadata": {
    "execution": {
     "iopub.execute_input": "2020-07-09T01:48:03.659859Z",
     "iopub.status.busy": "2020-07-09T01:48:03.656167Z",
     "iopub.status.idle": "2020-07-09T01:48:05.197600Z",
     "shell.execute_reply": "2020-07-09T01:48:05.197974Z"
    },
    "papermill": {
     "duration": 1.67477,
     "end_time": "2020-07-09T01:48:05.198115",
     "exception": false,
     "start_time": "2020-07-09T01:48:03.523345",
     "status": "completed"
    },
    "tags": []
   },
   "outputs": [],
   "source": [
    "wageTax.plot_summary(forecast_wage_base, figsize=(6.4, 5))\n",
    "plt.savefig(RESULTS_DIR / \"summary\" / \"figures\" / \"wage_comparison.png\")"
   ]
  },
  {
   "cell_type": "markdown",
   "metadata": {
    "papermill": {
     "duration": 0.099602,
     "end_time": "2020-07-09T01:48:05.405910",
     "exception": false,
     "start_time": "2020-07-09T01:48:05.306308",
     "status": "completed"
    },
    "tags": []
   },
   "source": [
    "## Sales"
   ]
  },
  {
   "cell_type": "code",
   "execution_count": null,
   "metadata": {
    "execution": {
     "iopub.execute_input": "2020-07-09T01:48:05.610698Z",
     "iopub.status.busy": "2020-07-09T01:48:05.610123Z",
     "iopub.status.idle": "2020-07-09T01:48:05.612198Z",
     "shell.execute_reply": "2020-07-09T01:48:05.612836Z"
    },
    "papermill": {
     "duration": 0.109771,
     "end_time": "2020-07-09T01:48:05.613081",
     "exception": false,
     "start_time": "2020-07-09T01:48:05.503310",
     "status": "completed"
    },
    "tags": []
   },
   "outputs": [],
   "source": [
    "min_year = 1996\n",
    "C = corr[min_year]\n",
    "G = grangers[min_year]"
   ]
  },
  {
   "cell_type": "code",
   "execution_count": null,
   "metadata": {
    "execution": {
     "iopub.execute_input": "2020-07-09T01:48:05.826719Z",
     "iopub.status.busy": "2020-07-09T01:48:05.825901Z",
     "iopub.status.idle": "2020-07-09T01:48:05.829195Z",
     "shell.execute_reply": "2020-07-09T01:48:05.829748Z"
    },
    "papermill": {
     "duration": 0.114984,
     "end_time": "2020-07-09T01:48:05.829979",
     "exception": false,
     "start_time": "2020-07-09T01:48:05.714995",
     "status": "completed"
    },
    "tags": []
   },
   "outputs": [],
   "source": [
    "C['D.Ln.SalesBase'].sort_values().head(n=10)"
   ]
  },
  {
   "cell_type": "code",
   "execution_count": null,
   "metadata": {
    "execution": {
     "iopub.execute_input": "2020-07-09T01:48:06.047463Z",
     "iopub.status.busy": "2020-07-09T01:48:06.046663Z",
     "iopub.status.idle": "2020-07-09T01:48:06.049569Z",
     "shell.execute_reply": "2020-07-09T01:48:06.049967Z"
    },
    "papermill": {
     "duration": 0.119433,
     "end_time": "2020-07-09T01:48:06.050220",
     "exception": false,
     "start_time": "2020-07-09T01:48:05.930787",
     "status": "completed"
    },
    "tags": []
   },
   "outputs": [],
   "source": [
    "C['D.Ln.SalesBase'].sort_values().tail(n=10)"
   ]
  },
  {
   "cell_type": "code",
   "execution_count": null,
   "metadata": {
    "execution": {
     "iopub.execute_input": "2020-07-09T01:48:06.263536Z",
     "iopub.status.busy": "2020-07-09T01:48:06.262889Z",
     "iopub.status.idle": "2020-07-09T01:48:06.265842Z",
     "shell.execute_reply": "2020-07-09T01:48:06.266390Z"
    },
    "papermill": {
     "duration": 0.113171,
     "end_time": "2020-07-09T01:48:06.266599",
     "exception": false,
     "start_time": "2020-07-09T01:48:06.153428",
     "status": "completed"
    },
    "tags": []
   },
   "outputs": [],
   "source": [
    "get_possible_endog_variables(G, \"SalesBase\", alpha=0.1)"
   ]
  },
  {
   "cell_type": "code",
   "execution_count": null,
   "metadata": {
    "execution": {
     "iopub.execute_input": "2020-07-09T01:48:06.523600Z",
     "iopub.status.busy": "2020-07-09T01:48:06.519722Z",
     "iopub.status.idle": "2020-07-09T01:48:27.869290Z",
     "shell.execute_reply": "2020-07-09T01:48:27.869728Z"
    },
    "papermill": {
     "duration": 21.489318,
     "end_time": "2020-07-09T01:48:27.869933",
     "exception": false,
     "start_time": "2020-07-09T01:48:06.380615",
     "status": "completed"
    },
    "tags": []
   },
   "outputs": [],
   "source": [
    "sales_fits = run_possible_models(\n",
    "    get_selected_features(data, min_year),\n",
    "    \"SalesBase\",\n",
    "    [\"ConsumerConfidence\", \"CarSales\", \"CorporateProfits\",],\n",
    "    [2, 3, 4, 5, 6],\n",
    "    G,\n",
    "    alpha=0.1,\n",
    "    max_exog=4,\n",
    "    split_year=2014,\n",
    "    max_other_endog=2,\n",
    ")"
   ]
  },
  {
   "cell_type": "code",
   "execution_count": null,
   "metadata": {
    "execution": {
     "iopub.execute_input": "2020-07-09T01:48:28.070930Z",
     "iopub.status.busy": "2020-07-09T01:48:28.070309Z",
     "iopub.status.idle": "2020-07-09T01:48:28.072846Z",
     "shell.execute_reply": "2020-07-09T01:48:28.073219Z"
    },
    "papermill": {
     "duration": 0.107787,
     "end_time": "2020-07-09T01:48:28.073359",
     "exception": false,
     "start_time": "2020-07-09T01:48:27.965572",
     "status": "completed"
    },
    "tags": []
   },
   "outputs": [],
   "source": [
    "best_params = sales_fits[0]\n",
    "best_params"
   ]
  },
  {
   "cell_type": "code",
   "execution_count": null,
   "metadata": {
    "execution": {
     "iopub.execute_input": "2020-07-09T01:48:28.320890Z",
     "iopub.status.busy": "2020-07-09T01:48:28.288147Z",
     "iopub.status.idle": "2020-07-09T01:48:28.630563Z",
     "shell.execute_reply": "2020-07-09T01:48:28.631095Z"
    },
    "papermill": {
     "duration": 0.457992,
     "end_time": "2020-07-09T01:48:28.631299",
     "exception": false,
     "start_time": "2020-07-09T01:48:28.173307",
     "status": "completed"
    },
    "tags": []
   },
   "outputs": [],
   "source": [
    "result, forecast = fit_var_model(\n",
    "    get_selected_features(data, min_year),\n",
    "    endog_cols=best_params[\"endog_cols\"],\n",
    "    order=best_params[\"order\"],\n",
    "    exog_cols=best_params[\"exog_cols\"],\n",
    "    exclude_2020=True,\n",
    ")\n",
    "print(result.aic)"
   ]
  },
  {
   "cell_type": "code",
   "execution_count": null,
   "metadata": {
    "execution": {
     "iopub.execute_input": "2020-07-09T01:48:28.855276Z",
     "iopub.status.busy": "2020-07-09T01:48:28.854673Z",
     "iopub.status.idle": "2020-07-09T01:48:28.872446Z",
     "shell.execute_reply": "2020-07-09T01:48:28.873148Z"
    },
    "papermill": {
     "duration": 0.123619,
     "end_time": "2020-07-09T01:48:28.873366",
     "exception": false,
     "start_time": "2020-07-09T01:48:28.749747",
     "status": "completed"
    },
    "tags": []
   },
   "outputs": [],
   "source": [
    "result.summary()"
   ]
  },
  {
   "cell_type": "code",
   "execution_count": null,
   "metadata": {
    "execution": {
     "iopub.execute_input": "2020-07-09T01:48:29.193209Z",
     "iopub.status.busy": "2020-07-09T01:48:29.101517Z",
     "iopub.status.idle": "2020-07-09T01:48:30.511922Z",
     "shell.execute_reply": "2020-07-09T01:48:30.512292Z"
    },
    "papermill": {
     "duration": 1.527736,
     "end_time": "2020-07-09T01:48:30.512436",
     "exception": false,
     "start_time": "2020-07-09T01:48:28.984700",
     "status": "completed"
    },
    "tags": []
   },
   "outputs": [],
   "source": [
    "fig = plot_fit(forecast, \"SalesBase\");"
   ]
  },
  {
   "cell_type": "markdown",
   "metadata": {
    "papermill": {
     "duration": 0.102749,
     "end_time": "2020-07-09T01:48:30.715010",
     "exception": false,
     "start_time": "2020-07-09T01:48:30.612261",
     "status": "completed"
    },
    "tags": []
   },
   "source": [
    "### FYP Comparison"
   ]
  },
  {
   "cell_type": "code",
   "execution_count": null,
   "metadata": {
    "execution": {
     "iopub.execute_input": "2020-07-09T01:48:30.943175Z",
     "iopub.status.busy": "2020-07-09T01:48:30.938105Z",
     "iopub.status.idle": "2020-07-09T01:48:31.292017Z",
     "shell.execute_reply": "2020-07-09T01:48:31.292846Z"
    },
    "papermill": {
     "duration": 0.470279,
     "end_time": "2020-07-09T01:48:31.293087",
     "exception": false,
     "start_time": "2020-07-09T01:48:30.822808",
     "status": "completed"
    },
    "tags": []
   },
   "outputs": [],
   "source": [
    "# Get avg forecasts\n",
    "forecast_sales_base, fits = get_avg_forecast_from_fits(\n",
    "    get_selected_features(data, min_year), sales_fits, \"SalesBase\", max_fits=1\n",
    ")\n",
    "\n",
    "# Save\n",
    "all_bestfit_params['Sales'] = fits"
   ]
  },
  {
   "cell_type": "code",
   "execution_count": null,
   "metadata": {
    "execution": {
     "iopub.execute_input": "2020-07-09T01:48:31.511864Z",
     "iopub.status.busy": "2020-07-09T01:48:31.510976Z",
     "iopub.status.idle": "2020-07-09T01:48:31.514017Z",
     "shell.execute_reply": "2020-07-09T01:48:31.514559Z"
    },
    "papermill": {
     "duration": 0.115363,
     "end_time": "2020-07-09T01:48:31.514740",
     "exception": false,
     "start_time": "2020-07-09T01:48:31.399377",
     "status": "completed"
    },
    "tags": []
   },
   "outputs": [],
   "source": [
    "(forecast_sales_base.diff() / forecast_sales_base.shift()).tail(n=7)"
   ]
  },
  {
   "cell_type": "code",
   "execution_count": null,
   "metadata": {
    "execution": {
     "iopub.execute_input": "2020-07-09T01:48:31.755303Z",
     "iopub.status.busy": "2020-07-09T01:48:31.754556Z",
     "iopub.status.idle": "2020-07-09T01:48:31.757483Z",
     "shell.execute_reply": "2020-07-09T01:48:31.756964Z"
    },
    "papermill": {
     "duration": 0.135033,
     "end_time": "2020-07-09T01:48:31.757620",
     "exception": false,
     "start_time": "2020-07-09T01:48:31.622587",
     "status": "completed"
    },
    "tags": []
   },
   "outputs": [],
   "source": [
    "salesTax = TAXES['Sales'](add_net_accrual=True)"
   ]
  },
  {
   "cell_type": "code",
   "execution_count": null,
   "metadata": {
    "execution": {
     "iopub.execute_input": "2020-07-09T01:48:31.984364Z",
     "iopub.status.busy": "2020-07-09T01:48:31.982997Z",
     "iopub.status.idle": "2020-07-09T01:48:32.077545Z",
     "shell.execute_reply": "2020-07-09T01:48:32.077984Z"
    },
    "papermill": {
     "duration": 0.21403,
     "end_time": "2020-07-09T01:48:32.078142",
     "exception": false,
     "start_time": "2020-07-09T01:48:31.864112",
     "status": "completed"
    },
    "tags": []
   },
   "outputs": [],
   "source": [
    "all_comparisons[\"Sales\"] = (\n",
    "    salesTax.get_mayor_comparison(forecast_sales_base).loc[2020:]\n",
    "    .assign(SalesRevenueBudget=lambda df: df.SalesRevenueBudget.fillna(df.SalesRevenue))\n",
    "    .rename(\n",
    "        columns={\"SalesRevenueBudget\": \"Five Year Plan\", \"SalesRevenue\": \"Controller\"}\n",
    "    )\n",
    ")\n",
    "\n",
    "all_tax_bases['Sales'] = forecast_sales_base"
   ]
  },
  {
   "cell_type": "code",
   "execution_count": null,
   "metadata": {
    "execution": {
     "iopub.execute_input": "2020-07-09T01:48:32.315141Z",
     "iopub.status.busy": "2020-07-09T01:48:32.314261Z",
     "iopub.status.idle": "2020-07-09T01:48:32.317407Z",
     "shell.execute_reply": "2020-07-09T01:48:32.318047Z"
    },
    "papermill": {
     "duration": 0.133268,
     "end_time": "2020-07-09T01:48:32.318245",
     "exception": false,
     "start_time": "2020-07-09T01:48:32.184977",
     "status": "completed"
    },
    "tags": []
   },
   "outputs": [],
   "source": [
    "all_comparisons['Sales']/1e6"
   ]
  },
  {
   "cell_type": "code",
   "execution_count": null,
   "metadata": {
    "execution": {
     "iopub.execute_input": "2020-07-09T01:48:32.646267Z",
     "iopub.status.busy": "2020-07-09T01:48:32.610366Z",
     "iopub.status.idle": "2020-07-09T01:48:34.095560Z",
     "shell.execute_reply": "2020-07-09T01:48:34.096232Z"
    },
    "papermill": {
     "duration": 1.669821,
     "end_time": "2020-07-09T01:48:34.096380",
     "exception": false,
     "start_time": "2020-07-09T01:48:32.426559",
     "status": "completed"
    },
    "tags": []
   },
   "outputs": [],
   "source": [
    "salesTax.plot_summary(forecast_sales_base, figsize=(6.4, 5))\n",
    "plt.savefig(RESULTS_DIR / \"summary\" / \"figures\" / \"sales_comparison.png\")"
   ]
  },
  {
   "cell_type": "markdown",
   "metadata": {
    "papermill": {
     "duration": 0.119523,
     "end_time": "2020-07-09T01:48:34.324842",
     "exception": false,
     "start_time": "2020-07-09T01:48:34.205319",
     "status": "completed"
    },
    "tags": []
   },
   "source": [
    "## BIRT"
   ]
  },
  {
   "cell_type": "markdown",
   "metadata": {
    "papermill": {
     "duration": 0.11473,
     "end_time": "2020-07-09T01:48:34.556807",
     "exception": false,
     "start_time": "2020-07-09T01:48:34.442077",
     "status": "completed"
    },
    "tags": []
   },
   "source": [
    "### Gross Receipts"
   ]
  },
  {
   "cell_type": "code",
   "execution_count": null,
   "metadata": {
    "execution": {
     "iopub.execute_input": "2020-07-09T01:48:34.789885Z",
     "iopub.status.busy": "2020-07-09T01:48:34.788545Z",
     "iopub.status.idle": "2020-07-09T01:48:34.791001Z",
     "shell.execute_reply": "2020-07-09T01:48:34.791605Z"
    },
    "papermill": {
     "duration": 0.119787,
     "end_time": "2020-07-09T01:48:34.791812",
     "exception": false,
     "start_time": "2020-07-09T01:48:34.672025",
     "status": "completed"
    },
    "tags": []
   },
   "outputs": [],
   "source": [
    "min_year = 1996\n",
    "C = corr[min_year]\n",
    "G = grangers[min_year]"
   ]
  },
  {
   "cell_type": "code",
   "execution_count": null,
   "metadata": {
    "execution": {
     "iopub.execute_input": "2020-07-09T01:48:35.029049Z",
     "iopub.status.busy": "2020-07-09T01:48:35.028382Z",
     "iopub.status.idle": "2020-07-09T01:48:35.031451Z",
     "shell.execute_reply": "2020-07-09T01:48:35.032387Z"
    },
    "papermill": {
     "duration": 0.125206,
     "end_time": "2020-07-09T01:48:35.032598",
     "exception": false,
     "start_time": "2020-07-09T01:48:34.907392",
     "status": "completed"
    },
    "tags": []
   },
   "outputs": [],
   "source": [
    "C['D.GrossReceiptsBase'].sort_values().head(n=10)"
   ]
  },
  {
   "cell_type": "code",
   "execution_count": null,
   "metadata": {
    "execution": {
     "iopub.execute_input": "2020-07-09T01:48:35.260766Z",
     "iopub.status.busy": "2020-07-09T01:48:35.260093Z",
     "iopub.status.idle": "2020-07-09T01:48:35.262463Z",
     "shell.execute_reply": "2020-07-09T01:48:35.262837Z"
    },
    "papermill": {
     "duration": 0.120144,
     "end_time": "2020-07-09T01:48:35.262978",
     "exception": false,
     "start_time": "2020-07-09T01:48:35.142834",
     "status": "completed"
    },
    "tags": []
   },
   "outputs": [],
   "source": [
    "C['D.GrossReceiptsBase'].sort_values().tail(n=10)"
   ]
  },
  {
   "cell_type": "code",
   "execution_count": null,
   "metadata": {
    "execution": {
     "iopub.execute_input": "2020-07-09T01:48:35.496347Z",
     "iopub.status.busy": "2020-07-09T01:48:35.495448Z",
     "iopub.status.idle": "2020-07-09T01:48:35.498768Z",
     "shell.execute_reply": "2020-07-09T01:48:35.499233Z"
    },
    "papermill": {
     "duration": 0.126807,
     "end_time": "2020-07-09T01:48:35.499380",
     "exception": false,
     "start_time": "2020-07-09T01:48:35.372573",
     "status": "completed"
    },
    "tags": []
   },
   "outputs": [],
   "source": [
    "get_possible_endog_variables(G, \"GrossReceiptsBase\", alpha=0.2)"
   ]
  },
  {
   "cell_type": "code",
   "execution_count": null,
   "metadata": {
    "execution": {
     "iopub.execute_input": "2020-07-09T01:48:35.798120Z",
     "iopub.status.busy": "2020-07-09T01:48:35.787377Z",
     "iopub.status.idle": "2020-07-09T01:48:47.026408Z",
     "shell.execute_reply": "2020-07-09T01:48:47.026803Z"
    },
    "papermill": {
     "duration": 11.415789,
     "end_time": "2020-07-09T01:48:47.027013",
     "exception": false,
     "start_time": "2020-07-09T01:48:35.611224",
     "status": "completed"
    },
    "tags": []
   },
   "outputs": [],
   "source": [
    "gross_receipts_fits = run_possible_models(\n",
    "    get_selected_features(data, min_year),\n",
    "    \"GrossReceiptsBase\",\n",
    "    [\n",
    "        \"ConsumerConfidence\",\n",
    "        \"CorporateProfits\",\n",
    "        \"RealRetailFoodServiceSales\",\n",
    "        \"CPIPhillyMSA\",\n",
    "        \"CarSales\",\n",
    "        \"PCEPriceIndex\"\n",
    "    ],\n",
    "    [2, 3, 4, 5, 6],\n",
    "    G,\n",
    "    alpha=0.2,\n",
    "    max_exog=4,\n",
    "    split_year=2014,\n",
    "    max_other_endog=1,\n",
    ")"
   ]
  },
  {
   "cell_type": "code",
   "execution_count": null,
   "metadata": {
    "execution": {
     "iopub.execute_input": "2020-07-09T01:48:47.248930Z",
     "iopub.status.busy": "2020-07-09T01:48:47.248176Z",
     "iopub.status.idle": "2020-07-09T01:48:47.250506Z",
     "shell.execute_reply": "2020-07-09T01:48:47.250874Z"
    },
    "papermill": {
     "duration": 0.115214,
     "end_time": "2020-07-09T01:48:47.251014",
     "exception": false,
     "start_time": "2020-07-09T01:48:47.135800",
     "status": "completed"
    },
    "tags": []
   },
   "outputs": [],
   "source": [
    "best_params = gross_receipts_fits[0]\n",
    "best_params"
   ]
  },
  {
   "cell_type": "code",
   "execution_count": null,
   "metadata": {
    "execution": {
     "iopub.execute_input": "2020-07-09T01:48:47.536024Z",
     "iopub.status.busy": "2020-07-09T01:48:47.506163Z",
     "iopub.status.idle": "2020-07-09T01:48:47.789366Z",
     "shell.execute_reply": "2020-07-09T01:48:47.789838Z"
    },
    "papermill": {
     "duration": 0.428995,
     "end_time": "2020-07-09T01:48:47.790106",
     "exception": false,
     "start_time": "2020-07-09T01:48:47.361111",
     "status": "completed"
    },
    "tags": []
   },
   "outputs": [],
   "source": [
    "result, forecast = fit_var_model(\n",
    "    get_selected_features(data, min_year),\n",
    "    endog_cols=best_params[\"endog_cols\"],\n",
    "    order=best_params[\"order\"],\n",
    "    exog_cols=best_params[\"exog_cols\"],\n",
    "    exclude_2020=True,\n",
    ")\n",
    "print(result.aic)"
   ]
  },
  {
   "cell_type": "code",
   "execution_count": null,
   "metadata": {
    "execution": {
     "iopub.execute_input": "2020-07-09T01:48:48.023083Z",
     "iopub.status.busy": "2020-07-09T01:48:48.022238Z",
     "iopub.status.idle": "2020-07-09T01:48:48.024930Z",
     "shell.execute_reply": "2020-07-09T01:48:48.025332Z"
    },
    "papermill": {
     "duration": 0.121782,
     "end_time": "2020-07-09T01:48:48.025494",
     "exception": false,
     "start_time": "2020-07-09T01:48:47.903712",
     "status": "completed"
    },
    "tags": []
   },
   "outputs": [],
   "source": [
    "result.summary()"
   ]
  },
  {
   "cell_type": "code",
   "execution_count": null,
   "metadata": {
    "execution": {
     "iopub.execute_input": "2020-07-09T01:48:48.309686Z",
     "iopub.status.busy": "2020-07-09T01:48:48.280162Z",
     "iopub.status.idle": "2020-07-09T01:48:49.423908Z",
     "shell.execute_reply": "2020-07-09T01:48:49.424454Z"
    },
    "papermill": {
     "duration": 1.278098,
     "end_time": "2020-07-09T01:48:49.424620",
     "exception": false,
     "start_time": "2020-07-09T01:48:48.146522",
     "status": "completed"
    },
    "tags": []
   },
   "outputs": [],
   "source": [
    "plot_fit(forecast, \"GrossReceiptsBase\");"
   ]
  },
  {
   "cell_type": "code",
   "execution_count": null,
   "metadata": {
    "execution": {
     "iopub.execute_input": "2020-07-09T01:48:49.729263Z",
     "iopub.status.busy": "2020-07-09T01:48:49.701296Z",
     "iopub.status.idle": "2020-07-09T01:48:50.576660Z",
     "shell.execute_reply": "2020-07-09T01:48:50.577102Z"
    },
    "papermill": {
     "duration": 1.022951,
     "end_time": "2020-07-09T01:48:50.577310",
     "exception": false,
     "start_time": "2020-07-09T01:48:49.554359",
     "status": "completed"
    },
    "tags": []
   },
   "outputs": [],
   "source": [
    "forecast_gr_base, fits = get_avg_forecast_from_fits(\n",
    "    get_selected_features(data, min_year),\n",
    "    gross_receipts_fits,\n",
    "    \"GrossReceiptsBase\",\n",
    "    max_fits=3,\n",
    ")\n",
    "\n",
    "all_bestfit_params['GrossReceipts'] = fits"
   ]
  },
  {
   "cell_type": "code",
   "execution_count": null,
   "metadata": {
    "execution": {
     "iopub.execute_input": "2020-07-09T01:48:50.821915Z",
     "iopub.status.busy": "2020-07-09T01:48:50.821235Z",
     "iopub.status.idle": "2020-07-09T01:48:50.824055Z",
     "shell.execute_reply": "2020-07-09T01:48:50.824569Z"
    },
    "papermill": {
     "duration": 0.129964,
     "end_time": "2020-07-09T01:48:50.824723",
     "exception": false,
     "start_time": "2020-07-09T01:48:50.694759",
     "status": "completed"
    },
    "tags": []
   },
   "outputs": [],
   "source": [
    "(forecast_gr_base.diff() / forecast_gr_base.shift()).tail(n=7)"
   ]
  },
  {
   "cell_type": "markdown",
   "metadata": {
    "papermill": {
     "duration": 0.113919,
     "end_time": "2020-07-09T01:48:51.054154",
     "exception": false,
     "start_time": "2020-07-09T01:48:50.940235",
     "status": "completed"
    },
    "tags": []
   },
   "source": [
    "### Net Income"
   ]
  },
  {
   "cell_type": "code",
   "execution_count": null,
   "metadata": {
    "execution": {
     "iopub.execute_input": "2020-07-09T01:48:51.313146Z",
     "iopub.status.busy": "2020-07-09T01:48:51.312224Z",
     "iopub.status.idle": "2020-07-09T01:48:51.314508Z",
     "shell.execute_reply": "2020-07-09T01:48:51.314917Z"
    },
    "papermill": {
     "duration": 0.135647,
     "end_time": "2020-07-09T01:48:51.315074",
     "exception": false,
     "start_time": "2020-07-09T01:48:51.179427",
     "status": "completed"
    },
    "tags": []
   },
   "outputs": [],
   "source": [
    "min_year = 1996\n",
    "C = corr[min_year]\n",
    "G = grangers[min_year]"
   ]
  },
  {
   "cell_type": "code",
   "execution_count": null,
   "metadata": {
    "execution": {
     "iopub.execute_input": "2020-07-09T01:48:51.589746Z",
     "iopub.status.busy": "2020-07-09T01:48:51.587370Z",
     "iopub.status.idle": "2020-07-09T01:48:51.593992Z",
     "shell.execute_reply": "2020-07-09T01:48:51.593280Z"
    },
    "papermill": {
     "duration": 0.133221,
     "end_time": "2020-07-09T01:48:51.594256",
     "exception": false,
     "start_time": "2020-07-09T01:48:51.461035",
     "status": "completed"
    },
    "tags": []
   },
   "outputs": [],
   "source": [
    "C['D.NetIncomeBase'].sort_values().head(n=10)"
   ]
  },
  {
   "cell_type": "code",
   "execution_count": null,
   "metadata": {
    "execution": {
     "iopub.execute_input": "2020-07-09T01:48:51.849115Z",
     "iopub.status.busy": "2020-07-09T01:48:51.848497Z",
     "iopub.status.idle": "2020-07-09T01:48:51.851026Z",
     "shell.execute_reply": "2020-07-09T01:48:51.851462Z"
    },
    "papermill": {
     "duration": 0.138149,
     "end_time": "2020-07-09T01:48:51.851790",
     "exception": false,
     "start_time": "2020-07-09T01:48:51.713641",
     "status": "completed"
    },
    "tags": []
   },
   "outputs": [],
   "source": [
    "C['D.NetIncomeBase'].sort_values().tail(n=10)"
   ]
  },
  {
   "cell_type": "code",
   "execution_count": null,
   "metadata": {
    "execution": {
     "iopub.execute_input": "2020-07-09T01:48:52.107337Z",
     "iopub.status.busy": "2020-07-09T01:48:52.106611Z",
     "iopub.status.idle": "2020-07-09T01:48:52.109073Z",
     "shell.execute_reply": "2020-07-09T01:48:52.109456Z"
    },
    "papermill": {
     "duration": 0.133084,
     "end_time": "2020-07-09T01:48:52.109601",
     "exception": false,
     "start_time": "2020-07-09T01:48:51.976517",
     "status": "completed"
    },
    "tags": []
   },
   "outputs": [],
   "source": [
    "get_possible_endog_variables(G, \"NetIncomeBase\", alpha=0.1)"
   ]
  },
  {
   "cell_type": "code",
   "execution_count": null,
   "metadata": {
    "execution": {
     "iopub.execute_input": "2020-07-09T01:48:52.411473Z",
     "iopub.status.busy": "2020-07-09T01:48:52.378928Z",
     "iopub.status.idle": "2020-07-09T01:49:51.193280Z",
     "shell.execute_reply": "2020-07-09T01:49:51.193880Z"
    },
    "papermill": {
     "duration": 58.962628,
     "end_time": "2020-07-09T01:49:51.194136",
     "exception": false,
     "start_time": "2020-07-09T01:48:52.231508",
     "status": "completed"
    },
    "tags": []
   },
   "outputs": [],
   "source": [
    "net_income_fits = run_possible_models(\n",
    "    get_selected_features(data, min_year),\n",
    "    \"NetIncomeBase\",\n",
    "    [\n",
    "        \"ConsumerConfidence\",\n",
    "        \"CorporateProfits\",\n",
    "        \"UnemploymentPhillyMSA\",\n",
    "        \"InitialClaimsPA\",\n",
    "        \"CPIPhillyMSA\",\n",
    "        \"SP500\",\n",
    "        \"PCEPriceIndex\",\n",
    "    ],\n",
    "    [2, 3, 4, 5, 6],\n",
    "    G,\n",
    "    alpha=0.2,\n",
    "    max_exog=4,\n",
    "    split_year=2014,\n",
    "    max_other_endog=2,\n",
    ")"
   ]
  },
  {
   "cell_type": "code",
   "execution_count": null,
   "metadata": {
    "execution": {
     "iopub.execute_input": "2020-07-09T01:49:51.431219Z",
     "iopub.status.busy": "2020-07-09T01:49:51.430591Z",
     "iopub.status.idle": "2020-07-09T01:49:51.433486Z",
     "shell.execute_reply": "2020-07-09T01:49:51.434395Z"
    },
    "papermill": {
     "duration": 0.128467,
     "end_time": "2020-07-09T01:49:51.434620",
     "exception": false,
     "start_time": "2020-07-09T01:49:51.306153",
     "status": "completed"
    },
    "tags": []
   },
   "outputs": [],
   "source": [
    "best_params = net_income_fits[0]\n",
    "best_params"
   ]
  },
  {
   "cell_type": "code",
   "execution_count": null,
   "metadata": {
    "execution": {
     "iopub.execute_input": "2020-07-09T01:49:51.754141Z",
     "iopub.status.busy": "2020-07-09T01:49:51.721022Z",
     "iopub.status.idle": "2020-07-09T01:49:52.044086Z",
     "shell.execute_reply": "2020-07-09T01:49:52.044800Z"
    },
    "papermill": {
     "duration": 0.489006,
     "end_time": "2020-07-09T01:49:52.045039",
     "exception": false,
     "start_time": "2020-07-09T01:49:51.556033",
     "status": "completed"
    },
    "tags": []
   },
   "outputs": [],
   "source": [
    "result, forecast = fit_var_model(\n",
    "    get_selected_features(data, min_year),\n",
    "    endog_cols=best_params[\"endog_cols\"],\n",
    "    order=best_params[\"order\"],\n",
    "    exog_cols=best_params[\"exog_cols\"],\n",
    "    exclude_2020=True,\n",
    ")\n",
    "print(result.aic)"
   ]
  },
  {
   "cell_type": "code",
   "execution_count": null,
   "metadata": {
    "execution": {
     "iopub.execute_input": "2020-07-09T01:49:52.291201Z",
     "iopub.status.busy": "2020-07-09T01:49:52.290196Z",
     "iopub.status.idle": "2020-07-09T01:49:52.293986Z",
     "shell.execute_reply": "2020-07-09T01:49:52.294558Z"
    },
    "papermill": {
     "duration": 0.131761,
     "end_time": "2020-07-09T01:49:52.294794",
     "exception": false,
     "start_time": "2020-07-09T01:49:52.163033",
     "status": "completed"
    },
    "tags": []
   },
   "outputs": [],
   "source": [
    "result.summary()"
   ]
  },
  {
   "cell_type": "code",
   "execution_count": null,
   "metadata": {
    "execution": {
     "iopub.execute_input": "2020-07-09T01:49:52.561081Z",
     "iopub.status.busy": "2020-07-09T01:49:52.540720Z",
     "iopub.status.idle": "2020-07-09T01:49:53.762126Z",
     "shell.execute_reply": "2020-07-09T01:49:53.762502Z"
    },
    "papermill": {
     "duration": 1.345161,
     "end_time": "2020-07-09T01:49:53.762643",
     "exception": false,
     "start_time": "2020-07-09T01:49:52.417482",
     "status": "completed"
    },
    "tags": []
   },
   "outputs": [],
   "source": [
    "plot_fit(forecast, \"NetIncomeBase\");"
   ]
  },
  {
   "cell_type": "code",
   "execution_count": null,
   "metadata": {
    "execution": {
     "iopub.execute_input": "2020-07-09T01:49:54.025632Z",
     "iopub.status.busy": "2020-07-09T01:49:54.022174Z",
     "iopub.status.idle": "2020-07-09T01:49:54.358459Z",
     "shell.execute_reply": "2020-07-09T01:49:54.358893Z"
    },
    "papermill": {
     "duration": 0.475669,
     "end_time": "2020-07-09T01:49:54.359051",
     "exception": false,
     "start_time": "2020-07-09T01:49:53.883382",
     "status": "completed"
    },
    "tags": []
   },
   "outputs": [],
   "source": [
    "# Get avg forecast\n",
    "forecast_ni_base, fits = get_avg_forecast_from_fits(\n",
    "    get_selected_features(data, min_year), net_income_fits, \"NetIncomeBase\", max_fits=1\n",
    ")\n",
    "\n",
    "all_bestfit_params['NetIncome'] = fits"
   ]
  },
  {
   "cell_type": "code",
   "execution_count": null,
   "metadata": {
    "execution": {
     "iopub.execute_input": "2020-07-09T01:49:54.614800Z",
     "iopub.status.busy": "2020-07-09T01:49:54.614036Z",
     "iopub.status.idle": "2020-07-09T01:49:54.617035Z",
     "shell.execute_reply": "2020-07-09T01:49:54.617413Z"
    },
    "papermill": {
     "duration": 0.137094,
     "end_time": "2020-07-09T01:49:54.617556",
     "exception": false,
     "start_time": "2020-07-09T01:49:54.480462",
     "status": "completed"
    },
    "tags": []
   },
   "outputs": [],
   "source": [
    "(forecast_ni_base.diff() / forecast_ni_base.shift()).tail(n=7)"
   ]
  },
  {
   "cell_type": "markdown",
   "metadata": {
    "papermill": {
     "duration": 0.134328,
     "end_time": "2020-07-09T01:49:54.875431",
     "exception": false,
     "start_time": "2020-07-09T01:49:54.741103",
     "status": "completed"
    },
    "tags": []
   },
   "source": [
    "### FYP Comparison"
   ]
  },
  {
   "cell_type": "code",
   "execution_count": null,
   "metadata": {
    "execution": {
     "iopub.execute_input": "2020-07-09T01:49:55.129266Z",
     "iopub.status.busy": "2020-07-09T01:49:55.128634Z",
     "iopub.status.idle": "2020-07-09T01:49:55.130950Z",
     "shell.execute_reply": "2020-07-09T01:49:55.131323Z"
    },
    "papermill": {
     "duration": 0.132688,
     "end_time": "2020-07-09T01:49:55.131467",
     "exception": false,
     "start_time": "2020-07-09T01:49:54.998779",
     "status": "completed"
    },
    "tags": []
   },
   "outputs": [],
   "source": [
    "BIRT = TAXES['BIRT'](add_net_accrual=True)"
   ]
  },
  {
   "cell_type": "code",
   "execution_count": null,
   "metadata": {
    "execution": {
     "iopub.execute_input": "2020-07-09T01:49:55.382462Z",
     "iopub.status.busy": "2020-07-09T01:49:55.381725Z",
     "iopub.status.idle": "2020-07-09T01:49:55.384223Z",
     "shell.execute_reply": "2020-07-09T01:49:55.384697Z"
    },
    "papermill": {
     "duration": 0.127285,
     "end_time": "2020-07-09T01:49:55.384873",
     "exception": false,
     "start_time": "2020-07-09T01:49:55.257588",
     "status": "completed"
    },
    "tags": []
   },
   "outputs": [],
   "source": [
    "BIRT_base = (forecast_gr_base + forecast_ni_base).rename(\"BIRTBase\")"
   ]
  },
  {
   "cell_type": "code",
   "execution_count": null,
   "metadata": {
    "execution": {
     "iopub.execute_input": "2020-07-09T01:49:55.643156Z",
     "iopub.status.busy": "2020-07-09T01:49:55.642327Z",
     "iopub.status.idle": "2020-07-09T01:49:55.645717Z",
     "shell.execute_reply": "2020-07-09T01:49:55.646128Z"
    },
    "papermill": {
     "duration": 0.134322,
     "end_time": "2020-07-09T01:49:55.646280",
     "exception": false,
     "start_time": "2020-07-09T01:49:55.511958",
     "status": "completed"
    },
    "tags": []
   },
   "outputs": [],
   "source": [
    "BIRT_base.diff() / BIRT_base.shift()"
   ]
  },
  {
   "cell_type": "code",
   "execution_count": null,
   "metadata": {
    "execution": {
     "iopub.execute_input": "2020-07-09T01:49:55.911985Z",
     "iopub.status.busy": "2020-07-09T01:49:55.911398Z",
     "iopub.status.idle": "2020-07-09T01:49:55.913367Z",
     "shell.execute_reply": "2020-07-09T01:49:55.913797Z"
    },
    "papermill": {
     "duration": 0.140294,
     "end_time": "2020-07-09T01:49:55.913947",
     "exception": false,
     "start_time": "2020-07-09T01:49:55.773653",
     "status": "completed"
    },
    "tags": []
   },
   "outputs": [],
   "source": [
    "# Recalibrate FY22 to FY19\n",
    "FY19_CALIBRATION = 0.075\n",
    "\n",
    "# Net Income\n",
    "forecast_ni_base_corr = forecast_ni_base.copy()\n",
    "forecast_ni_base_corr.loc[2022:] += forecast_ni_base_corr.loc[2022] * FY19_CALIBRATION\n",
    "\n",
    "# Gross Receipts\n",
    "forecast_gr_base_corr = forecast_gr_base.copy()\n",
    "forecast_gr_base_corr.loc[2022:] += forecast_gr_base_corr.loc[2022] * FY19_CALIBRATION"
   ]
  },
  {
   "cell_type": "code",
   "execution_count": null,
   "metadata": {
    "execution": {
     "iopub.execute_input": "2020-07-09T01:49:56.180791Z",
     "iopub.status.busy": "2020-07-09T01:49:56.180202Z",
     "iopub.status.idle": "2020-07-09T01:49:56.278833Z",
     "shell.execute_reply": "2020-07-09T01:49:56.279212Z"
    },
    "papermill": {
     "duration": 0.230277,
     "end_time": "2020-07-09T01:49:56.279355",
     "exception": false,
     "start_time": "2020-07-09T01:49:56.049078",
     "status": "completed"
    },
    "tags": []
   },
   "outputs": [],
   "source": [
    "all_comparisons[\"BIRT\"] = (\n",
    "    BIRT.get_mayor_comparison(forecast_gr_base_corr, forecast_ni_base_corr)\n",
    "    .loc[2020:]\n",
    "    .assign(BIRTRevenueBudget=lambda df: df.BIRTRevenueBudget.fillna(df.BIRTRevenue))\n",
    "    .rename(\n",
    "        columns={\"BIRTRevenueBudget\": \"Five Year Plan\", \"BIRTRevenue\": \"Controller\"}\n",
    "    )\n",
    ")\n",
    "\n",
    "all_tax_bases[\"BIRT\"] = (forecast_gr_base_corr + forecast_ni_base_corr).rename(\n",
    "    \"BIRTBase\"\n",
    ")\n",
    "all_tax_bases[\"GrossReceipts\"] = forecast_gr_base_corr\n",
    "all_tax_bases[\"NetIncome\"] = forecast_ni_base_corr"
   ]
  },
  {
   "cell_type": "code",
   "execution_count": null,
   "metadata": {
    "execution": {
     "iopub.execute_input": "2020-07-09T01:49:56.529372Z",
     "iopub.status.busy": "2020-07-09T01:49:56.528724Z",
     "iopub.status.idle": "2020-07-09T01:49:56.531676Z",
     "shell.execute_reply": "2020-07-09T01:49:56.531274Z"
    },
    "papermill": {
     "duration": 0.126792,
     "end_time": "2020-07-09T01:49:56.531800",
     "exception": false,
     "start_time": "2020-07-09T01:49:56.405008",
     "status": "completed"
    },
    "tags": []
   },
   "outputs": [],
   "source": [
    "all_comparisons['BIRT']/1e6"
   ]
  },
  {
   "cell_type": "code",
   "execution_count": null,
   "metadata": {
    "execution": {
     "iopub.execute_input": "2020-07-09T01:49:56.806367Z",
     "iopub.status.busy": "2020-07-09T01:49:56.805581Z",
     "iopub.status.idle": "2020-07-09T01:49:58.281786Z",
     "shell.execute_reply": "2020-07-09T01:49:58.282582Z"
    },
    "papermill": {
     "duration": 1.627345,
     "end_time": "2020-07-09T01:49:58.282829",
     "exception": false,
     "start_time": "2020-07-09T01:49:56.655484",
     "status": "completed"
    },
    "tags": []
   },
   "outputs": [],
   "source": [
    "BIRT.plot_summary(forecast_gr_base_corr, forecast_ni_base_corr, figsize=(6.4, 5))\n",
    "plt.savefig(RESULTS_DIR / \"summary\" / \"figures\" / \"birt_comparison.png\")"
   ]
  },
  {
   "cell_type": "markdown",
   "metadata": {
    "papermill": {
     "duration": 0.143122,
     "end_time": "2020-07-09T01:49:58.572244",
     "exception": false,
     "start_time": "2020-07-09T01:49:58.429122",
     "status": "completed"
    },
    "tags": []
   },
   "source": [
    "## RTT"
   ]
  },
  {
   "cell_type": "code",
   "execution_count": null,
   "metadata": {
    "execution": {
     "iopub.execute_input": "2020-07-09T01:49:58.856569Z",
     "iopub.status.busy": "2020-07-09T01:49:58.855938Z",
     "iopub.status.idle": "2020-07-09T01:49:58.858112Z",
     "shell.execute_reply": "2020-07-09T01:49:58.858552Z"
    },
    "papermill": {
     "duration": 0.144493,
     "end_time": "2020-07-09T01:49:58.858715",
     "exception": false,
     "start_time": "2020-07-09T01:49:58.714222",
     "status": "completed"
    },
    "tags": []
   },
   "outputs": [],
   "source": [
    "min_year = 1996\n",
    "C = corr[min_year]\n",
    "G = grangers[min_year]"
   ]
  },
  {
   "cell_type": "code",
   "execution_count": null,
   "metadata": {
    "execution": {
     "iopub.execute_input": "2020-07-09T01:49:59.129458Z",
     "iopub.status.busy": "2020-07-09T01:49:59.128693Z",
     "iopub.status.idle": "2020-07-09T01:49:59.131437Z",
     "shell.execute_reply": "2020-07-09T01:49:59.131814Z"
    },
    "papermill": {
     "duration": 0.144709,
     "end_time": "2020-07-09T01:49:59.131957",
     "exception": false,
     "start_time": "2020-07-09T01:49:58.987248",
     "status": "completed"
    },
    "tags": []
   },
   "outputs": [],
   "source": [
    "C['D.Ln.RTTBase'].sort_values().head(n=10)"
   ]
  },
  {
   "cell_type": "code",
   "execution_count": null,
   "metadata": {
    "execution": {
     "iopub.execute_input": "2020-07-09T01:49:59.429232Z",
     "iopub.status.busy": "2020-07-09T01:49:59.428419Z",
     "iopub.status.idle": "2020-07-09T01:49:59.431335Z",
     "shell.execute_reply": "2020-07-09T01:49:59.431713Z"
    },
    "papermill": {
     "duration": 0.15406,
     "end_time": "2020-07-09T01:49:59.431854",
     "exception": false,
     "start_time": "2020-07-09T01:49:59.277794",
     "status": "completed"
    },
    "tags": []
   },
   "outputs": [],
   "source": [
    "C['D.Ln.RTTBase'].sort_values().tail(n=10)"
   ]
  },
  {
   "cell_type": "code",
   "execution_count": null,
   "metadata": {
    "execution": {
     "iopub.execute_input": "2020-07-09T01:49:59.738369Z",
     "iopub.status.busy": "2020-07-09T01:49:59.736891Z",
     "iopub.status.idle": "2020-07-09T01:49:59.740830Z",
     "shell.execute_reply": "2020-07-09T01:49:59.741355Z"
    },
    "papermill": {
     "duration": 0.170784,
     "end_time": "2020-07-09T01:49:59.741620",
     "exception": false,
     "start_time": "2020-07-09T01:49:59.570836",
     "status": "completed"
    },
    "tags": []
   },
   "outputs": [],
   "source": [
    "get_possible_endog_variables(G, \"RTTBase\", alpha=0.05)"
   ]
  },
  {
   "cell_type": "code",
   "execution_count": null,
   "metadata": {
    "execution": {
     "iopub.execute_input": "2020-07-09T01:50:00.014494Z",
     "iopub.status.busy": "2020-07-09T01:50:00.012561Z",
     "iopub.status.idle": "2020-07-09T01:50:30.221926Z",
     "shell.execute_reply": "2020-07-09T01:50:30.222378Z"
    },
    "papermill": {
     "duration": 30.346229,
     "end_time": "2020-07-09T01:50:30.222583",
     "exception": false,
     "start_time": "2020-07-09T01:49:59.876354",
     "status": "completed"
    },
    "tags": []
   },
   "outputs": [],
   "source": [
    "rtt_fits = run_possible_models(\n",
    "    get_selected_features(data, min_year),\n",
    "    \"RTTBase\",\n",
    "    [\n",
    "        \"BuildingPermitsPhillyMSA\",\n",
    "        \"RealDisposablePersonalIncome\",\n",
    "        \"ConsumerConfidence\",\n",
    "        \"NYCGasPrice\"\n",
    "    ],\n",
    "    [1, 2, 3, 4, 5, 6],\n",
    "    G,\n",
    "    alpha=0.05,\n",
    "    max_exog=4,\n",
    "    split_year=2014,\n",
    "    max_other_endog=4,\n",
    ")"
   ]
  },
  {
   "cell_type": "code",
   "execution_count": null,
   "metadata": {
    "execution": {
     "iopub.execute_input": "2020-07-09T01:50:30.518377Z",
     "iopub.status.busy": "2020-07-09T01:50:30.517634Z",
     "iopub.status.idle": "2020-07-09T01:50:30.520357Z",
     "shell.execute_reply": "2020-07-09T01:50:30.520886Z"
    },
    "papermill": {
     "duration": 0.158899,
     "end_time": "2020-07-09T01:50:30.521114",
     "exception": false,
     "start_time": "2020-07-09T01:50:30.362215",
     "status": "completed"
    },
    "tags": []
   },
   "outputs": [],
   "source": [
    "best_params = rtt_fits[0]\n",
    "best_params"
   ]
  },
  {
   "cell_type": "code",
   "execution_count": null,
   "metadata": {
    "execution": {
     "iopub.execute_input": "2020-07-09T01:50:30.816797Z",
     "iopub.status.busy": "2020-07-09T01:50:30.816123Z",
     "iopub.status.idle": "2020-07-09T01:50:31.139416Z",
     "shell.execute_reply": "2020-07-09T01:50:31.140296Z"
    },
    "papermill": {
     "duration": 0.479827,
     "end_time": "2020-07-09T01:50:31.140522",
     "exception": false,
     "start_time": "2020-07-09T01:50:30.660695",
     "status": "completed"
    },
    "tags": []
   },
   "outputs": [],
   "source": [
    "result, forecast = fit_var_model(\n",
    "    get_selected_features(data, min_year),\n",
    "    endog_cols=best_params[\"endog_cols\"],\n",
    "    order=best_params[\"order\"],\n",
    "    exog_cols=best_params[\"exog_cols\"],\n",
    "    exclude_2020=True,\n",
    ")\n",
    "print(result.aic)"
   ]
  },
  {
   "cell_type": "code",
   "execution_count": null,
   "metadata": {
    "execution": {
     "iopub.execute_input": "2020-07-09T01:50:31.442703Z",
     "iopub.status.busy": "2020-07-09T01:50:31.441654Z",
     "iopub.status.idle": "2020-07-09T01:50:31.457356Z",
     "shell.execute_reply": "2020-07-09T01:50:31.457766Z"
    },
    "papermill": {
     "duration": 0.166169,
     "end_time": "2020-07-09T01:50:31.457933",
     "exception": false,
     "start_time": "2020-07-09T01:50:31.291764",
     "status": "completed"
    },
    "tags": []
   },
   "outputs": [],
   "source": [
    "result.summary()"
   ]
  },
  {
   "cell_type": "code",
   "execution_count": null,
   "metadata": {
    "execution": {
     "iopub.execute_input": "2020-07-09T01:50:31.776150Z",
     "iopub.status.busy": "2020-07-09T01:50:31.756978Z",
     "iopub.status.idle": "2020-07-09T01:50:33.001696Z",
     "shell.execute_reply": "2020-07-09T01:50:33.002071Z"
    },
    "papermill": {
     "duration": 1.397483,
     "end_time": "2020-07-09T01:50:33.002214",
     "exception": false,
     "start_time": "2020-07-09T01:50:31.604731",
     "status": "completed"
    },
    "tags": []
   },
   "outputs": [],
   "source": [
    "plot_fit(forecast, \"RTTBase\");"
   ]
  },
  {
   "cell_type": "markdown",
   "metadata": {
    "papermill": {
     "duration": 0.135429,
     "end_time": "2020-07-09T01:50:33.280221",
     "exception": false,
     "start_time": "2020-07-09T01:50:33.144792",
     "status": "completed"
    },
    "tags": []
   },
   "source": [
    "### FYP Comparison"
   ]
  },
  {
   "cell_type": "code",
   "execution_count": null,
   "metadata": {
    "execution": {
     "iopub.execute_input": "2020-07-09T01:50:33.585298Z",
     "iopub.status.busy": "2020-07-09T01:50:33.556041Z",
     "iopub.status.idle": "2020-07-09T01:50:34.628030Z",
     "shell.execute_reply": "2020-07-09T01:50:34.628472Z"
    },
    "papermill": {
     "duration": 1.215401,
     "end_time": "2020-07-09T01:50:34.628682",
     "exception": false,
     "start_time": "2020-07-09T01:50:33.413281",
     "status": "completed"
    },
    "tags": []
   },
   "outputs": [],
   "source": [
    "forecast_rtt_base, fits = get_avg_forecast_from_fits(\n",
    "    get_selected_features(data, min_year), rtt_fits, \"RTTBase\", max_fits=3\n",
    ")\n",
    "\n",
    "all_bestfit_params[\"RTT\"] = fits"
   ]
  },
  {
   "cell_type": "code",
   "execution_count": null,
   "metadata": {
    "execution": {
     "iopub.execute_input": "2020-07-09T01:50:34.912642Z",
     "iopub.status.busy": "2020-07-09T01:50:34.912010Z",
     "iopub.status.idle": "2020-07-09T01:50:34.914755Z",
     "shell.execute_reply": "2020-07-09T01:50:34.915154Z"
    },
    "papermill": {
     "duration": 0.14746,
     "end_time": "2020-07-09T01:50:34.915297",
     "exception": false,
     "start_time": "2020-07-09T01:50:34.767837",
     "status": "completed"
    },
    "tags": []
   },
   "outputs": [],
   "source": [
    "(forecast_rtt_base.diff() / forecast_rtt_base.shift()).tail(n=7)"
   ]
  },
  {
   "cell_type": "code",
   "execution_count": null,
   "metadata": {
    "execution": {
     "iopub.execute_input": "2020-07-09T01:50:35.209027Z",
     "iopub.status.busy": "2020-07-09T01:50:35.208428Z",
     "iopub.status.idle": "2020-07-09T01:50:35.210558Z",
     "shell.execute_reply": "2020-07-09T01:50:35.210931Z"
    },
    "papermill": {
     "duration": 0.146735,
     "end_time": "2020-07-09T01:50:35.211074",
     "exception": false,
     "start_time": "2020-07-09T01:50:35.064339",
     "status": "completed"
    },
    "tags": []
   },
   "outputs": [],
   "source": [
    "RTT = TAXES['RTT'](add_net_accrual=True)"
   ]
  },
  {
   "cell_type": "code",
   "execution_count": null,
   "metadata": {
    "execution": {
     "iopub.execute_input": "2020-07-09T01:50:35.480010Z",
     "iopub.status.busy": "2020-07-09T01:50:35.479434Z",
     "iopub.status.idle": "2020-07-09T01:50:35.581375Z",
     "shell.execute_reply": "2020-07-09T01:50:35.581884Z"
    },
    "papermill": {
     "duration": 0.23888,
     "end_time": "2020-07-09T01:50:35.582085",
     "exception": false,
     "start_time": "2020-07-09T01:50:35.343205",
     "status": "completed"
    },
    "tags": []
   },
   "outputs": [],
   "source": [
    "all_comparisons[\"RTT\"] = (\n",
    "    RTT.get_mayor_comparison(forecast_rtt_base)\n",
    "    .loc[2020:]\n",
    "    .assign(RTTRevenueBudget=lambda df: df.RTTRevenueBudget.fillna(df.RTTRevenue))\n",
    "    .rename(columns={\"RTTRevenueBudget\": \"Five Year Plan\", \"RTTRevenue\": \"Controller\"})\n",
    ")\n",
    "\n",
    "all_tax_bases[\"RTT\"] = forecast_rtt_base"
   ]
  },
  {
   "cell_type": "code",
   "execution_count": null,
   "metadata": {
    "execution": {
     "iopub.execute_input": "2020-07-09T01:50:35.907758Z",
     "iopub.status.busy": "2020-07-09T01:50:35.893779Z",
     "iopub.status.idle": "2020-07-09T01:50:37.491498Z",
     "shell.execute_reply": "2020-07-09T01:50:37.490865Z"
    },
    "papermill": {
     "duration": 1.772152,
     "end_time": "2020-07-09T01:50:37.491751",
     "exception": false,
     "start_time": "2020-07-09T01:50:35.719599",
     "status": "completed"
    },
    "tags": []
   },
   "outputs": [],
   "source": [
    "RTT.plot_summary(forecast_rtt_base, figsize=(6.4, 5))\n",
    "plt.savefig(RESULTS_DIR / \"summary\" / \"figures\" / \"rtt_comparison.png\")"
   ]
  },
  {
   "cell_type": "markdown",
   "metadata": {
    "papermill": {
     "duration": 0.145071,
     "end_time": "2020-07-09T01:50:37.777260",
     "exception": false,
     "start_time": "2020-07-09T01:50:37.632189",
     "status": "completed"
    },
    "tags": []
   },
   "source": [
    "## Parking"
   ]
  },
  {
   "cell_type": "code",
   "execution_count": null,
   "metadata": {
    "execution": {
     "iopub.execute_input": "2020-07-09T01:50:38.090371Z",
     "iopub.status.busy": "2020-07-09T01:50:38.089495Z",
     "iopub.status.idle": "2020-07-09T01:50:38.092049Z",
     "shell.execute_reply": "2020-07-09T01:50:38.092560Z"
    },
    "papermill": {
     "duration": 0.145414,
     "end_time": "2020-07-09T01:50:38.092757",
     "exception": false,
     "start_time": "2020-07-09T01:50:37.947343",
     "status": "completed"
    },
    "tags": []
   },
   "outputs": [],
   "source": [
    "min_year = 1996\n",
    "C = corr[min_year]\n",
    "G = grangers[min_year]"
   ]
  },
  {
   "cell_type": "code",
   "execution_count": null,
   "metadata": {
    "execution": {
     "iopub.execute_input": "2020-07-09T01:50:38.377366Z",
     "iopub.status.busy": "2020-07-09T01:50:38.376699Z",
     "iopub.status.idle": "2020-07-09T01:50:38.379384Z",
     "shell.execute_reply": "2020-07-09T01:50:38.379755Z"
    },
    "papermill": {
     "duration": 0.152184,
     "end_time": "2020-07-09T01:50:38.379896",
     "exception": false,
     "start_time": "2020-07-09T01:50:38.227712",
     "status": "completed"
    },
    "tags": []
   },
   "outputs": [],
   "source": [
    "C['D.Ln.ParkingBase'].sort_values().head(n=10)"
   ]
  },
  {
   "cell_type": "code",
   "execution_count": null,
   "metadata": {
    "execution": {
     "iopub.execute_input": "2020-07-09T01:50:38.669795Z",
     "iopub.status.busy": "2020-07-09T01:50:38.669206Z",
     "iopub.status.idle": "2020-07-09T01:50:38.671782Z",
     "shell.execute_reply": "2020-07-09T01:50:38.672158Z"
    },
    "papermill": {
     "duration": 0.148588,
     "end_time": "2020-07-09T01:50:38.672297",
     "exception": false,
     "start_time": "2020-07-09T01:50:38.523709",
     "status": "completed"
    },
    "tags": []
   },
   "outputs": [],
   "source": [
    "C['D.Ln.ParkingBase'].sort_values().tail(n=10)"
   ]
  },
  {
   "cell_type": "code",
   "execution_count": null,
   "metadata": {
    "execution": {
     "iopub.execute_input": "2020-07-09T01:50:38.968706Z",
     "iopub.status.busy": "2020-07-09T01:50:38.968037Z",
     "iopub.status.idle": "2020-07-09T01:50:38.970675Z",
     "shell.execute_reply": "2020-07-09T01:50:38.971052Z"
    },
    "papermill": {
     "duration": 0.154951,
     "end_time": "2020-07-09T01:50:38.971241",
     "exception": false,
     "start_time": "2020-07-09T01:50:38.816290",
     "status": "completed"
    },
    "tags": []
   },
   "outputs": [],
   "source": [
    "get_possible_endog_variables(G, \"ParkingBase\", alpha=0.05)"
   ]
  },
  {
   "cell_type": "code",
   "execution_count": null,
   "metadata": {
    "execution": {
     "iopub.execute_input": "2020-07-09T01:50:39.266078Z",
     "iopub.status.busy": "2020-07-09T01:50:39.265356Z",
     "iopub.status.idle": "2020-07-09T01:50:56.914545Z",
     "shell.execute_reply": "2020-07-09T01:50:56.914928Z"
    },
    "papermill": {
     "duration": 17.807149,
     "end_time": "2020-07-09T01:50:56.915073",
     "exception": false,
     "start_time": "2020-07-09T01:50:39.107924",
     "status": "completed"
    },
    "tags": []
   },
   "outputs": [],
   "source": [
    "parking_fits = run_possible_models(\n",
    "    get_selected_features(data, min_year),\n",
    "    \"ParkingBase\",\n",
    "    [\n",
    "        \"NonresidentialInvestment\",\n",
    "        \"CorporateProfits\",\n",
    "        \"NYCGasPrice\",\n",
    "        \"NonfarmEmployeesPhilly\",\n",
    "        \"UnemploymentPhillyMSA\"\n",
    "    ],\n",
    "    [2, 3, 4, 5, 6],\n",
    "    G,\n",
    "    alpha=0.1,\n",
    "    max_exog=4,\n",
    "    split_year=2014,\n",
    "    max_other_endog=1,\n",
    ")"
   ]
  },
  {
   "cell_type": "code",
   "execution_count": null,
   "metadata": {
    "execution": {
     "iopub.execute_input": "2020-07-09T01:50:57.196200Z",
     "iopub.status.busy": "2020-07-09T01:50:57.195178Z",
     "iopub.status.idle": "2020-07-09T01:50:57.198510Z",
     "shell.execute_reply": "2020-07-09T01:50:57.199026Z"
    },
    "papermill": {
     "duration": 0.146989,
     "end_time": "2020-07-09T01:50:57.199241",
     "exception": false,
     "start_time": "2020-07-09T01:50:57.052252",
     "status": "completed"
    },
    "tags": []
   },
   "outputs": [],
   "source": [
    "best_params = parking_fits[0]\n",
    "best_params"
   ]
  },
  {
   "cell_type": "code",
   "execution_count": null,
   "metadata": {
    "execution": {
     "iopub.execute_input": "2020-07-09T01:50:57.520864Z",
     "iopub.status.busy": "2020-07-09T01:50:57.491063Z",
     "iopub.status.idle": "2020-07-09T01:50:57.800097Z",
     "shell.execute_reply": "2020-07-09T01:50:57.800547Z"
    },
    "papermill": {
     "duration": 0.469844,
     "end_time": "2020-07-09T01:50:57.800694",
     "exception": false,
     "start_time": "2020-07-09T01:50:57.330850",
     "status": "completed"
    },
    "tags": []
   },
   "outputs": [],
   "source": [
    "result, forecast = fit_var_model(\n",
    "    get_selected_features(data, min_year),\n",
    "    endog_cols=best_params[\"endog_cols\"],\n",
    "    order=best_params[\"order\"],\n",
    "    exog_cols=best_params[\"exog_cols\"],\n",
    "    exclude_2020=True,\n",
    ")"
   ]
  },
  {
   "cell_type": "code",
   "execution_count": null,
   "metadata": {
    "execution": {
     "iopub.execute_input": "2020-07-09T01:50:58.092665Z",
     "iopub.status.busy": "2020-07-09T01:50:58.084969Z",
     "iopub.status.idle": "2020-07-09T01:50:58.095969Z",
     "shell.execute_reply": "2020-07-09T01:50:58.096641Z"
    },
    "papermill": {
     "duration": 0.157699,
     "end_time": "2020-07-09T01:50:58.096900",
     "exception": false,
     "start_time": "2020-07-09T01:50:57.939201",
     "status": "completed"
    },
    "tags": []
   },
   "outputs": [],
   "source": [
    "result.summary()"
   ]
  },
  {
   "cell_type": "code",
   "execution_count": null,
   "metadata": {
    "execution": {
     "iopub.execute_input": "2020-07-09T01:50:58.429068Z",
     "iopub.status.busy": "2020-07-09T01:50:58.409542Z",
     "iopub.status.idle": "2020-07-09T01:50:59.579985Z",
     "shell.execute_reply": "2020-07-09T01:50:59.580412Z"
    },
    "papermill": {
     "duration": 1.321406,
     "end_time": "2020-07-09T01:50:59.580657",
     "exception": false,
     "start_time": "2020-07-09T01:50:58.259251",
     "status": "completed"
    },
    "tags": []
   },
   "outputs": [],
   "source": [
    "plot_fit(forecast, \"ParkingBase\");"
   ]
  },
  {
   "cell_type": "markdown",
   "metadata": {
    "papermill": {
     "duration": 0.147218,
     "end_time": "2020-07-09T01:50:59.914591",
     "exception": false,
     "start_time": "2020-07-09T01:50:59.767373",
     "status": "completed"
    },
    "tags": []
   },
   "source": [
    "### FYP Comparison"
   ]
  },
  {
   "cell_type": "code",
   "execution_count": null,
   "metadata": {
    "execution": {
     "iopub.execute_input": "2020-07-09T01:51:00.264120Z",
     "iopub.status.busy": "2020-07-09T01:51:00.251396Z",
     "iopub.status.idle": "2020-07-09T01:51:00.536375Z",
     "shell.execute_reply": "2020-07-09T01:51:00.537004Z"
    },
    "papermill": {
     "duration": 0.464198,
     "end_time": "2020-07-09T01:51:00.537204",
     "exception": false,
     "start_time": "2020-07-09T01:51:00.073006",
     "status": "completed"
    },
    "tags": []
   },
   "outputs": [],
   "source": [
    "forecast_parking_base, fits = get_avg_forecast_from_fits(\n",
    "    get_selected_features(data, min_year), parking_fits, \"ParkingBase\", max_fits=1\n",
    ")\n",
    "\n",
    "all_bestfit_params['Parking'] = fits"
   ]
  },
  {
   "cell_type": "code",
   "execution_count": null,
   "metadata": {
    "execution": {
     "iopub.execute_input": "2020-07-09T01:51:00.832401Z",
     "iopub.status.busy": "2020-07-09T01:51:00.831785Z",
     "iopub.status.idle": "2020-07-09T01:51:00.834956Z",
     "shell.execute_reply": "2020-07-09T01:51:00.835704Z"
    },
    "papermill": {
     "duration": 0.157658,
     "end_time": "2020-07-09T01:51:00.835918",
     "exception": false,
     "start_time": "2020-07-09T01:51:00.678260",
     "status": "completed"
    },
    "tags": []
   },
   "outputs": [],
   "source": [
    "(forecast_parking_base.diff() / forecast_parking_base.shift()).tail(n=7)"
   ]
  },
  {
   "cell_type": "code",
   "execution_count": null,
   "metadata": {
    "execution": {
     "iopub.execute_input": "2020-07-09T01:51:01.136578Z",
     "iopub.status.busy": "2020-07-09T01:51:01.135301Z",
     "iopub.status.idle": "2020-07-09T01:51:01.138193Z",
     "shell.execute_reply": "2020-07-09T01:51:01.137695Z"
    },
    "papermill": {
     "duration": 0.147462,
     "end_time": "2020-07-09T01:51:01.138366",
     "exception": false,
     "start_time": "2020-07-09T01:51:00.990904",
     "status": "completed"
    },
    "tags": []
   },
   "outputs": [],
   "source": [
    "# Recalibrate FY21\n",
    "PARKING_CALIBRATION = 0.935\n",
    "\n",
    "# Net Income\n",
    "forecast_parking_base_corr = forecast_parking_base.copy()\n",
    "forecast_parking_base_corr.loc[2021] *= PARKING_CALIBRATION"
   ]
  },
  {
   "cell_type": "code",
   "execution_count": null,
   "metadata": {
    "execution": {
     "iopub.execute_input": "2020-07-09T01:51:01.431279Z",
     "iopub.status.busy": "2020-07-09T01:51:01.430649Z",
     "iopub.status.idle": "2020-07-09T01:51:01.433171Z",
     "shell.execute_reply": "2020-07-09T01:51:01.433548Z"
    },
    "papermill": {
     "duration": 0.153311,
     "end_time": "2020-07-09T01:51:01.433687",
     "exception": false,
     "start_time": "2020-07-09T01:51:01.280376",
     "status": "completed"
    },
    "tags": []
   },
   "outputs": [],
   "source": [
    "(forecast_parking_base_corr.diff() / forecast_parking_base_corr.shift()).tail(n=7)"
   ]
  },
  {
   "cell_type": "code",
   "execution_count": null,
   "metadata": {
    "execution": {
     "iopub.execute_input": "2020-07-09T01:51:01.724609Z",
     "iopub.status.busy": "2020-07-09T01:51:01.723885Z",
     "iopub.status.idle": "2020-07-09T01:51:01.725855Z",
     "shell.execute_reply": "2020-07-09T01:51:01.726229Z"
    },
    "papermill": {
     "duration": 0.146826,
     "end_time": "2020-07-09T01:51:01.726367",
     "exception": false,
     "start_time": "2020-07-09T01:51:01.579541",
     "status": "completed"
    },
    "tags": []
   },
   "outputs": [],
   "source": [
    "parkingTax = TAXES['Parking'](add_net_accrual=True)"
   ]
  },
  {
   "cell_type": "code",
   "execution_count": null,
   "metadata": {
    "execution": {
     "iopub.execute_input": "2020-07-09T01:51:02.030987Z",
     "iopub.status.busy": "2020-07-09T01:51:02.030420Z",
     "iopub.status.idle": "2020-07-09T01:51:02.115043Z",
     "shell.execute_reply": "2020-07-09T01:51:02.115544Z"
    },
    "papermill": {
     "duration": 0.246419,
     "end_time": "2020-07-09T01:51:02.115698",
     "exception": false,
     "start_time": "2020-07-09T01:51:01.869279",
     "status": "completed"
    },
    "tags": []
   },
   "outputs": [],
   "source": [
    "all_comparisons[\"Parking\"] = (\n",
    "    parkingTax.get_mayor_comparison(forecast_parking_base_corr)\n",
    "    .loc[2020:]\n",
    "    .assign(\n",
    "        ParkingRevenueBudget=lambda df: df.ParkingRevenueBudget.fillna(\n",
    "            df.ParkingRevenue\n",
    "        )\n",
    "    )\n",
    "    .rename(\n",
    "        columns={\n",
    "            \"ParkingRevenueBudget\": \"Five Year Plan\",\n",
    "            \"ParkingRevenue\": \"Controller\",\n",
    "        }\n",
    "    )\n",
    ")\n",
    "\n",
    "all_tax_bases[\"Parking\"] = forecast_parking_base_corr"
   ]
  },
  {
   "cell_type": "code",
   "execution_count": null,
   "metadata": {
    "execution": {
     "iopub.execute_input": "2020-07-09T01:51:02.423736Z",
     "iopub.status.busy": "2020-07-09T01:51:02.423066Z",
     "iopub.status.idle": "2020-07-09T01:51:02.425547Z",
     "shell.execute_reply": "2020-07-09T01:51:02.425939Z"
    },
    "papermill": {
     "duration": 0.161574,
     "end_time": "2020-07-09T01:51:02.426082",
     "exception": false,
     "start_time": "2020-07-09T01:51:02.264508",
     "status": "completed"
    },
    "tags": []
   },
   "outputs": [],
   "source": [
    "all_comparisons['Parking']/1e6"
   ]
  },
  {
   "cell_type": "code",
   "execution_count": null,
   "metadata": {
    "execution": {
     "iopub.execute_input": "2020-07-09T01:51:02.753983Z",
     "iopub.status.busy": "2020-07-09T01:51:02.747305Z",
     "iopub.status.idle": "2020-07-09T01:51:04.287525Z",
     "shell.execute_reply": "2020-07-09T01:51:04.288143Z"
    },
    "papermill": {
     "duration": 1.714475,
     "end_time": "2020-07-09T01:51:04.288335",
     "exception": false,
     "start_time": "2020-07-09T01:51:02.573860",
     "status": "completed"
    },
    "tags": []
   },
   "outputs": [],
   "source": [
    "parkingTax.plot_summary(forecast_parking_base_corr, figsize=(6.4, 5))\n",
    "plt.savefig(RESULTS_DIR / \"summary\" / \"figures\" / \"parking_comparison.png\")"
   ]
  },
  {
   "cell_type": "markdown",
   "metadata": {
    "papermill": {
     "duration": 0.164019,
     "end_time": "2020-07-09T01:51:04.606318",
     "exception": false,
     "start_time": "2020-07-09T01:51:04.442299",
     "status": "completed"
    },
    "tags": []
   },
   "source": [
    "## Amusement"
   ]
  },
  {
   "cell_type": "code",
   "execution_count": null,
   "metadata": {
    "execution": {
     "iopub.execute_input": "2020-07-09T01:51:04.929045Z",
     "iopub.status.busy": "2020-07-09T01:51:04.928441Z",
     "iopub.status.idle": "2020-07-09T01:51:04.930322Z",
     "shell.execute_reply": "2020-07-09T01:51:04.930793Z"
    },
    "papermill": {
     "duration": 0.162576,
     "end_time": "2020-07-09T01:51:04.930934",
     "exception": false,
     "start_time": "2020-07-09T01:51:04.768358",
     "status": "completed"
    },
    "tags": []
   },
   "outputs": [],
   "source": [
    "min_year = 1996\n",
    "C = corr[min_year]\n",
    "G = grangers[min_year]"
   ]
  },
  {
   "cell_type": "code",
   "execution_count": null,
   "metadata": {
    "execution": {
     "iopub.execute_input": "2020-07-09T01:51:05.240965Z",
     "iopub.status.busy": "2020-07-09T01:51:05.239564Z",
     "iopub.status.idle": "2020-07-09T01:51:05.243788Z",
     "shell.execute_reply": "2020-07-09T01:51:05.244291Z"
    },
    "papermill": {
     "duration": 0.166595,
     "end_time": "2020-07-09T01:51:05.244496",
     "exception": false,
     "start_time": "2020-07-09T01:51:05.077901",
     "status": "completed"
    },
    "tags": []
   },
   "outputs": [],
   "source": [
    "C['D.AmusementBase'].sort_values().head(n=10)"
   ]
  },
  {
   "cell_type": "code",
   "execution_count": null,
   "metadata": {
    "execution": {
     "iopub.execute_input": "2020-07-09T01:51:05.559240Z",
     "iopub.status.busy": "2020-07-09T01:51:05.558521Z",
     "iopub.status.idle": "2020-07-09T01:51:05.561462Z",
     "shell.execute_reply": "2020-07-09T01:51:05.561837Z"
    },
    "papermill": {
     "duration": 0.160072,
     "end_time": "2020-07-09T01:51:05.561980",
     "exception": false,
     "start_time": "2020-07-09T01:51:05.401908",
     "status": "completed"
    },
    "tags": []
   },
   "outputs": [],
   "source": [
    "C['D.AmusementBase'].sort_values().tail(n=10)"
   ]
  },
  {
   "cell_type": "code",
   "execution_count": null,
   "metadata": {
    "execution": {
     "iopub.execute_input": "2020-07-09T01:51:05.886494Z",
     "iopub.status.busy": "2020-07-09T01:51:05.885522Z",
     "iopub.status.idle": "2020-07-09T01:51:05.888717Z",
     "shell.execute_reply": "2020-07-09T01:51:05.889308Z"
    },
    "papermill": {
     "duration": 0.170311,
     "end_time": "2020-07-09T01:51:05.889515",
     "exception": false,
     "start_time": "2020-07-09T01:51:05.719204",
     "status": "completed"
    },
    "tags": []
   },
   "outputs": [],
   "source": [
    "get_possible_endog_variables(G, \"AmusementBase\", alpha=0.05)"
   ]
  },
  {
   "cell_type": "code",
   "execution_count": null,
   "metadata": {
    "execution": {
     "iopub.execute_input": "2020-07-09T01:51:06.251488Z",
     "iopub.status.busy": "2020-07-09T01:51:06.231244Z",
     "iopub.status.idle": "2020-07-09T01:54:47.048568Z",
     "shell.execute_reply": "2020-07-09T01:54:47.049084Z"
    },
    "papermill": {
     "duration": 221.005669,
     "end_time": "2020-07-09T01:54:47.049284",
     "exception": false,
     "start_time": "2020-07-09T01:51:06.043615",
     "status": "completed"
    },
    "tags": []
   },
   "outputs": [],
   "source": [
    "amusement_fits = run_possible_models(\n",
    "    get_selected_features(data, min_year),\n",
    "    \"AmusementBase\",\n",
    "    [\n",
    "        \"ParkingBase\",\n",
    "        \"RealGDP\",\n",
    "        \"RealDisposablePersonalIncome\",\n",
    "        \"PersonalIncome\",\n",
    "        \"PersonalSavingsRate\",\n",
    "        \"UnemploymentPhilly\",\n",
    "        \"HousingSupply\",\n",
    "        \"NYCGasPrice\",\n",
    "    ],\n",
    "    [1, 2, 3, 4, 5, 6],\n",
    "    G,\n",
    "    alpha=0.1,\n",
    "    max_exog=4,\n",
    "    split_year=2014,\n",
    "    max_other_endog=3,\n",
    ")"
   ]
  },
  {
   "cell_type": "code",
   "execution_count": null,
   "metadata": {
    "execution": {
     "iopub.execute_input": "2020-07-09T01:54:47.355155Z",
     "iopub.status.busy": "2020-07-09T01:54:47.354103Z",
     "iopub.status.idle": "2020-07-09T01:54:47.358013Z",
     "shell.execute_reply": "2020-07-09T01:54:47.357590Z"
    },
    "papermill": {
     "duration": 0.165589,
     "end_time": "2020-07-09T01:54:47.358143",
     "exception": false,
     "start_time": "2020-07-09T01:54:47.192554",
     "status": "completed"
    },
    "tags": []
   },
   "outputs": [],
   "source": [
    "best_params = amusement_fits[0]\n",
    "best_params"
   ]
  },
  {
   "cell_type": "code",
   "execution_count": null,
   "metadata": {
    "execution": {
     "iopub.execute_input": "2020-07-09T01:54:47.745773Z",
     "iopub.status.busy": "2020-07-09T01:54:47.713201Z",
     "iopub.status.idle": "2020-07-09T01:54:48.024324Z",
     "shell.execute_reply": "2020-07-09T01:54:48.024705Z"
    },
    "papermill": {
     "duration": 0.487712,
     "end_time": "2020-07-09T01:54:48.024850",
     "exception": false,
     "start_time": "2020-07-09T01:54:47.537138",
     "status": "completed"
    },
    "tags": []
   },
   "outputs": [],
   "source": [
    "result, forecast = fit_var_model(\n",
    "    get_selected_features(data, min_year),\n",
    "    endog_cols=best_params[\"endog_cols\"],\n",
    "    order=best_params[\"order\"],\n",
    "    exog_cols=best_params[\"exog_cols\"],\n",
    "    exclude_2020=True,\n",
    ")"
   ]
  },
  {
   "cell_type": "code",
   "execution_count": null,
   "metadata": {
    "execution": {
     "iopub.execute_input": "2020-07-09T01:54:48.325694Z",
     "iopub.status.busy": "2020-07-09T01:54:48.324945Z",
     "iopub.status.idle": "2020-07-09T01:54:48.338293Z",
     "shell.execute_reply": "2020-07-09T01:54:48.338717Z"
    },
    "papermill": {
     "duration": 0.166192,
     "end_time": "2020-07-09T01:54:48.338887",
     "exception": false,
     "start_time": "2020-07-09T01:54:48.172695",
     "status": "completed"
    },
    "tags": []
   },
   "outputs": [],
   "source": [
    "result.summary()"
   ]
  },
  {
   "cell_type": "code",
   "execution_count": null,
   "metadata": {
    "execution": {
     "iopub.execute_input": "2020-07-09T01:54:48.657606Z",
     "iopub.status.busy": "2020-07-09T01:54:48.651570Z",
     "iopub.status.idle": "2020-07-09T01:54:49.918206Z",
     "shell.execute_reply": "2020-07-09T01:54:49.918581Z"
    },
    "papermill": {
     "duration": 1.420313,
     "end_time": "2020-07-09T01:54:49.918722",
     "exception": false,
     "start_time": "2020-07-09T01:54:48.498409",
     "status": "completed"
    },
    "tags": []
   },
   "outputs": [],
   "source": [
    "plot_fit(forecast, \"AmusementBase\");"
   ]
  },
  {
   "cell_type": "markdown",
   "metadata": {
    "papermill": {
     "duration": 0.172412,
     "end_time": "2020-07-09T01:54:50.260440",
     "exception": false,
     "start_time": "2020-07-09T01:54:50.088028",
     "status": "completed"
    },
    "tags": []
   },
   "source": [
    "### FYP Comparison"
   ]
  },
  {
   "cell_type": "code",
   "execution_count": null,
   "metadata": {
    "execution": {
     "iopub.execute_input": "2020-07-09T01:54:50.632933Z",
     "iopub.status.busy": "2020-07-09T01:54:50.605464Z",
     "iopub.status.idle": "2020-07-09T01:54:51.108919Z",
     "shell.execute_reply": "2020-07-09T01:54:51.109571Z"
    },
    "papermill": {
     "duration": 0.681445,
     "end_time": "2020-07-09T01:54:51.109749",
     "exception": false,
     "start_time": "2020-07-09T01:54:50.428304",
     "status": "completed"
    },
    "tags": []
   },
   "outputs": [],
   "source": [
    "forecast_amusement_base, fits = get_avg_forecast_from_fits(\n",
    "    get_selected_features(data, min_year), amusement_fits, \"AmusementBase\", max_fits=1\n",
    ")\n",
    "\n",
    "all_bestfit_params['Amusement'] = fits"
   ]
  },
  {
   "cell_type": "code",
   "execution_count": null,
   "metadata": {
    "execution": {
     "iopub.execute_input": "2020-07-09T01:54:51.451665Z",
     "iopub.status.busy": "2020-07-09T01:54:51.450684Z",
     "iopub.status.idle": "2020-07-09T01:54:51.454137Z",
     "shell.execute_reply": "2020-07-09T01:54:51.454738Z"
    },
    "papermill": {
     "duration": 0.187027,
     "end_time": "2020-07-09T01:54:51.455661",
     "exception": false,
     "start_time": "2020-07-09T01:54:51.268634",
     "status": "completed"
    },
    "tags": []
   },
   "outputs": [],
   "source": [
    "(forecast_amusement_base.diff() / forecast_amusement_base.shift()).tail(n=7)"
   ]
  },
  {
   "cell_type": "code",
   "execution_count": null,
   "metadata": {
    "execution": {
     "iopub.execute_input": "2020-07-09T01:54:51.828629Z",
     "iopub.status.busy": "2020-07-09T01:54:51.828020Z",
     "iopub.status.idle": "2020-07-09T01:54:51.830202Z",
     "shell.execute_reply": "2020-07-09T01:54:51.830599Z"
    },
    "papermill": {
     "duration": 0.196268,
     "end_time": "2020-07-09T01:54:51.830739",
     "exception": false,
     "start_time": "2020-07-09T01:54:51.634471",
     "status": "completed"
    },
    "tags": []
   },
   "outputs": [],
   "source": [
    "amusementTax = TAXES['Amusement'](add_net_accrual=True)"
   ]
  },
  {
   "cell_type": "code",
   "execution_count": null,
   "metadata": {
    "execution": {
     "iopub.execute_input": "2020-07-09T01:54:52.191118Z",
     "iopub.status.busy": "2020-07-09T01:54:52.190452Z",
     "iopub.status.idle": "2020-07-09T01:54:52.304390Z",
     "shell.execute_reply": "2020-07-09T01:54:52.305837Z"
    },
    "papermill": {
     "duration": 0.292332,
     "end_time": "2020-07-09T01:54:52.306282",
     "exception": false,
     "start_time": "2020-07-09T01:54:52.013950",
     "status": "completed"
    },
    "tags": []
   },
   "outputs": [],
   "source": [
    "all_comparisons[\"Amusement\"] = (\n",
    "    amusementTax.get_mayor_comparison(forecast_amusement_base)\n",
    "    .loc[2020:]\n",
    "    .assign(\n",
    "        AmusementRevenueBudget=lambda df: df.AmusementRevenueBudget.fillna(\n",
    "            df.AmusementRevenue\n",
    "        )\n",
    "    )\n",
    "    .rename(\n",
    "        columns={\n",
    "            \"AmusementRevenueBudget\": \"Five Year Plan\",\n",
    "            \"AmusementRevenue\": \"Controller\",\n",
    "        }\n",
    "    )\n",
    ")\n",
    "\n",
    "all_tax_bases[\"Amusement\"] = forecast_amusement_base"
   ]
  },
  {
   "cell_type": "code",
   "execution_count": null,
   "metadata": {
    "execution": {
     "iopub.execute_input": "2020-07-09T01:54:52.694965Z",
     "iopub.status.busy": "2020-07-09T01:54:52.684449Z",
     "iopub.status.idle": "2020-07-09T01:54:54.192518Z",
     "shell.execute_reply": "2020-07-09T01:54:54.193071Z"
    },
    "papermill": {
     "duration": 1.711792,
     "end_time": "2020-07-09T01:54:54.193263",
     "exception": false,
     "start_time": "2020-07-09T01:54:52.481471",
     "status": "completed"
    },
    "tags": []
   },
   "outputs": [],
   "source": [
    "amusementTax.plot_summary(forecast_amusement_base, figsize=(6.4, 5))\n",
    "plt.savefig(RESULTS_DIR / \"summary\" / \"figures\" / \"amusement_comparison.png\")"
   ]
  },
  {
   "cell_type": "markdown",
   "metadata": {
    "papermill": {
     "duration": 0.181829,
     "end_time": "2020-07-09T01:54:54.568668",
     "exception": false,
     "start_time": "2020-07-09T01:54:54.386839",
     "status": "completed"
    },
    "tags": []
   },
   "source": [
    "## NPT"
   ]
  },
  {
   "cell_type": "code",
   "execution_count": null,
   "metadata": {
    "execution": {
     "iopub.execute_input": "2020-07-09T01:54:54.931661Z",
     "iopub.status.busy": "2020-07-09T01:54:54.931068Z",
     "iopub.status.idle": "2020-07-09T01:54:54.932911Z",
     "shell.execute_reply": "2020-07-09T01:54:54.933295Z"
    },
    "papermill": {
     "duration": 0.168959,
     "end_time": "2020-07-09T01:54:54.933436",
     "exception": false,
     "start_time": "2020-07-09T01:54:54.764477",
     "status": "completed"
    },
    "tags": []
   },
   "outputs": [],
   "source": [
    "min_year = 1996\n",
    "C = corr[min_year]\n",
    "G = grangers[min_year]"
   ]
  },
  {
   "cell_type": "code",
   "execution_count": null,
   "metadata": {
    "execution": {
     "iopub.execute_input": "2020-07-09T01:54:55.282208Z",
     "iopub.status.busy": "2020-07-09T01:54:55.281431Z",
     "iopub.status.idle": "2020-07-09T01:54:55.283910Z",
     "shell.execute_reply": "2020-07-09T01:54:55.284300Z"
    },
    "papermill": {
     "duration": 0.187267,
     "end_time": "2020-07-09T01:54:55.284453",
     "exception": false,
     "start_time": "2020-07-09T01:54:55.097186",
     "status": "completed"
    },
    "tags": []
   },
   "outputs": [],
   "source": [
    "C['D.NPTBase'].sort_values().head(n=10)"
   ]
  },
  {
   "cell_type": "code",
   "execution_count": null,
   "metadata": {
    "execution": {
     "iopub.execute_input": "2020-07-09T01:54:55.644918Z",
     "iopub.status.busy": "2020-07-09T01:54:55.643999Z",
     "iopub.status.idle": "2020-07-09T01:54:55.647350Z",
     "shell.execute_reply": "2020-07-09T01:54:55.647863Z"
    },
    "papermill": {
     "duration": 0.190508,
     "end_time": "2020-07-09T01:54:55.648041",
     "exception": false,
     "start_time": "2020-07-09T01:54:55.457533",
     "status": "completed"
    },
    "tags": []
   },
   "outputs": [],
   "source": [
    "C['D.NPTBase'].sort_values().tail(n=10)"
   ]
  },
  {
   "cell_type": "code",
   "execution_count": null,
   "metadata": {
    "execution": {
     "iopub.execute_input": "2020-07-09T01:54:56.004070Z",
     "iopub.status.busy": "2020-07-09T01:54:56.003163Z",
     "iopub.status.idle": "2020-07-09T01:54:56.006659Z",
     "shell.execute_reply": "2020-07-09T01:54:56.007286Z"
    },
    "papermill": {
     "duration": 0.18523,
     "end_time": "2020-07-09T01:54:56.007516",
     "exception": false,
     "start_time": "2020-07-09T01:54:55.822286",
     "status": "completed"
    },
    "tags": []
   },
   "outputs": [],
   "source": [
    "get_possible_endog_variables(G, \"NPTBase\", alpha=0.1)"
   ]
  },
  {
   "cell_type": "code",
   "execution_count": null,
   "metadata": {
    "execution": {
     "iopub.execute_input": "2020-07-09T01:54:56.662231Z",
     "iopub.status.busy": "2020-07-09T01:54:56.636449Z",
     "iopub.status.idle": "2020-07-09T01:57:11.634717Z",
     "shell.execute_reply": "2020-07-09T01:57:11.635155Z"
    },
    "papermill": {
     "duration": 135.389339,
     "end_time": "2020-07-09T01:57:11.635311",
     "exception": false,
     "start_time": "2020-07-09T01:54:56.245972",
     "status": "completed"
    },
    "tags": []
   },
   "outputs": [],
   "source": [
    "npt_fits = run_possible_models(\n",
    "    get_selected_features(data, min_year),\n",
    "    \"NPTBase\",\n",
    "    [\n",
    "        \"WageBase\",\n",
    "        \"MedianHomeValuePhilly\",\n",
    "        \"Wage&Salaries\",\n",
    "        \"CorporateProfits\",\n",
    "        \"RealGDP\",\n",
    "        \"GDPPriceIndex\",\n",
    "        \"ContinuedClaimsPA\"\n",
    "    ],\n",
    "    [2, 3, 4, 5, 6],\n",
    "    G,\n",
    "    alpha=0.1,\n",
    "    max_exog=4,\n",
    "    split_year=2014,\n",
    "    max_other_endog=3,\n",
    ")"
   ]
  },
  {
   "cell_type": "code",
   "execution_count": null,
   "metadata": {
    "execution": {
     "iopub.execute_input": "2020-07-09T01:57:11.970887Z",
     "iopub.status.busy": "2020-07-09T01:57:11.970107Z",
     "iopub.status.idle": "2020-07-09T01:57:11.972896Z",
     "shell.execute_reply": "2020-07-09T01:57:11.973237Z"
    },
    "papermill": {
     "duration": 0.177568,
     "end_time": "2020-07-09T01:57:11.973381",
     "exception": false,
     "start_time": "2020-07-09T01:57:11.795813",
     "status": "completed"
    },
    "tags": []
   },
   "outputs": [],
   "source": [
    "best_params = npt_fits[0]\n",
    "best_params"
   ]
  },
  {
   "cell_type": "code",
   "execution_count": null,
   "metadata": {
    "execution": {
     "iopub.execute_input": "2020-07-09T01:57:12.303925Z",
     "iopub.status.busy": "2020-07-09T01:57:12.302998Z",
     "iopub.status.idle": "2020-07-09T01:57:12.655037Z",
     "shell.execute_reply": "2020-07-09T01:57:12.655561Z"
    },
    "papermill": {
     "duration": 0.524224,
     "end_time": "2020-07-09T01:57:12.655763",
     "exception": false,
     "start_time": "2020-07-09T01:57:12.131539",
     "status": "completed"
    },
    "tags": []
   },
   "outputs": [],
   "source": [
    "result, forecast = fit_var_model(\n",
    "    get_selected_features(data, min_year),\n",
    "    endog_cols=best_params[\"endog_cols\"],\n",
    "    order=best_params[\"order\"],\n",
    "    exog_cols=best_params[\"exog_cols\"],\n",
    "    exclude_2020=True,\n",
    ")"
   ]
  },
  {
   "cell_type": "code",
   "execution_count": null,
   "metadata": {
    "execution": {
     "iopub.execute_input": "2020-07-09T01:57:12.988819Z",
     "iopub.status.busy": "2020-07-09T01:57:12.987857Z",
     "iopub.status.idle": "2020-07-09T01:57:13.020647Z",
     "shell.execute_reply": "2020-07-09T01:57:13.021211Z"
    },
    "papermill": {
     "duration": 0.205738,
     "end_time": "2020-07-09T01:57:13.021394",
     "exception": false,
     "start_time": "2020-07-09T01:57:12.815656",
     "status": "completed"
    },
    "tags": []
   },
   "outputs": [],
   "source": [
    "result.summary()"
   ]
  },
  {
   "cell_type": "code",
   "execution_count": null,
   "metadata": {
    "execution": {
     "iopub.execute_input": "2020-07-09T01:57:13.470396Z",
     "iopub.status.busy": "2020-07-09T01:57:13.425815Z",
     "iopub.status.idle": "2020-07-09T01:57:14.862680Z",
     "shell.execute_reply": "2020-07-09T01:57:14.863058Z"
    },
    "papermill": {
     "duration": 1.657935,
     "end_time": "2020-07-09T01:57:14.863200",
     "exception": false,
     "start_time": "2020-07-09T01:57:13.205265",
     "status": "completed"
    },
    "tags": []
   },
   "outputs": [],
   "source": [
    "plot_fit(forecast, \"NPTBase\");"
   ]
  },
  {
   "cell_type": "markdown",
   "metadata": {
    "papermill": {
     "duration": 0.181413,
     "end_time": "2020-07-09T01:57:15.228780",
     "exception": false,
     "start_time": "2020-07-09T01:57:15.047367",
     "status": "completed"
    },
    "tags": []
   },
   "source": [
    "### FYP Comparison"
   ]
  },
  {
   "cell_type": "code",
   "execution_count": null,
   "metadata": {
    "execution": {
     "iopub.execute_input": "2020-07-09T01:57:15.600962Z",
     "iopub.status.busy": "2020-07-09T01:57:15.596834Z",
     "iopub.status.idle": "2020-07-09T01:57:16.344088Z",
     "shell.execute_reply": "2020-07-09T01:57:16.344539Z"
    },
    "papermill": {
     "duration": 0.947988,
     "end_time": "2020-07-09T01:57:16.344743",
     "exception": false,
     "start_time": "2020-07-09T01:57:15.396755",
     "status": "completed"
    },
    "tags": []
   },
   "outputs": [],
   "source": [
    "forecast_npt_base, fits = get_avg_forecast_from_fits(\n",
    "    get_selected_features(data, min_year), npt_fits, \"NPTBase\", max_fits=2\n",
    ")\n",
    "\n",
    "all_bestfit_params['NPT'] = fits"
   ]
  },
  {
   "cell_type": "code",
   "execution_count": null,
   "metadata": {
    "execution": {
     "iopub.execute_input": "2020-07-09T01:57:16.698684Z",
     "iopub.status.busy": "2020-07-09T01:57:16.697640Z",
     "iopub.status.idle": "2020-07-09T01:57:16.701300Z",
     "shell.execute_reply": "2020-07-09T01:57:16.701797Z"
    },
    "papermill": {
     "duration": 0.183248,
     "end_time": "2020-07-09T01:57:16.701983",
     "exception": false,
     "start_time": "2020-07-09T01:57:16.518735",
     "status": "completed"
    },
    "tags": []
   },
   "outputs": [],
   "source": [
    "(forecast_npt_base.diff() / forecast_npt_base.shift()).tail(n=7)"
   ]
  },
  {
   "cell_type": "code",
   "execution_count": null,
   "metadata": {
    "execution": {
     "iopub.execute_input": "2020-07-09T01:57:17.044468Z",
     "iopub.status.busy": "2020-07-09T01:57:17.043775Z",
     "iopub.status.idle": "2020-07-09T01:57:17.046833Z",
     "shell.execute_reply": "2020-07-09T01:57:17.046203Z"
    },
    "papermill": {
     "duration": 0.176519,
     "end_time": "2020-07-09T01:57:17.047015",
     "exception": false,
     "start_time": "2020-07-09T01:57:16.870496",
     "status": "completed"
    },
    "tags": []
   },
   "outputs": [],
   "source": [
    "NPT = TAXES['NPT'](add_net_accrual=True)"
   ]
  },
  {
   "cell_type": "code",
   "execution_count": null,
   "metadata": {
    "execution": {
     "iopub.execute_input": "2020-07-09T01:57:17.394744Z",
     "iopub.status.busy": "2020-07-09T01:57:17.394172Z",
     "iopub.status.idle": "2020-07-09T01:57:17.487645Z",
     "shell.execute_reply": "2020-07-09T01:57:17.488082Z"
    },
    "papermill": {
     "duration": 0.266669,
     "end_time": "2020-07-09T01:57:17.488290",
     "exception": false,
     "start_time": "2020-07-09T01:57:17.221621",
     "status": "completed"
    },
    "tags": []
   },
   "outputs": [],
   "source": [
    "all_comparisons[\"NPT\"] = (\n",
    "    NPT.get_mayor_comparison(forecast_npt_base)\n",
    "    .loc[2020:]\n",
    "    .assign(\n",
    "        NPTRevenueBudget=lambda df: df.NPTRevenueBudget.fillna(\n",
    "            df.NPTRevenue\n",
    "        )\n",
    "    )\n",
    "    .rename(columns={\"NPTRevenueBudget\": \"Five Year Plan\", \"NPTRevenue\": \"Controller\"})\n",
    ")\n",
    "\n",
    "all_tax_bases[\"NPT\"] = forecast_npt_base"
   ]
  },
  {
   "cell_type": "code",
   "execution_count": null,
   "metadata": {
    "execution": {
     "iopub.execute_input": "2020-07-09T01:57:17.853539Z",
     "iopub.status.busy": "2020-07-09T01:57:17.835480Z",
     "iopub.status.idle": "2020-07-09T01:57:19.224336Z",
     "shell.execute_reply": "2020-07-09T01:57:19.224874Z"
    },
    "papermill": {
     "duration": 1.565485,
     "end_time": "2020-07-09T01:57:19.225103",
     "exception": false,
     "start_time": "2020-07-09T01:57:17.659618",
     "status": "completed"
    },
    "tags": []
   },
   "outputs": [],
   "source": [
    "NPT.plot_summary(forecast_npt_base)\n",
    "plt.savefig(RESULTS_DIR / \"summary\" / \"figures\" / \"npt_comparison.png\")"
   ]
  },
  {
   "cell_type": "markdown",
   "metadata": {
    "papermill": {
     "duration": 0.179091,
     "end_time": "2020-07-09T01:57:19.582940",
     "exception": false,
     "start_time": "2020-07-09T01:57:19.403849",
     "status": "completed"
    },
    "tags": []
   },
   "source": [
    "# Summary Comparison"
   ]
  },
  {
   "cell_type": "markdown",
   "metadata": {
    "papermill": {
     "duration": 0.186406,
     "end_time": "2020-07-09T01:57:19.962296",
     "exception": false,
     "start_time": "2020-07-09T01:57:19.775890",
     "status": "completed"
    },
    "tags": []
   },
   "source": [
    "## Tax Bases"
   ]
  },
  {
   "cell_type": "code",
   "execution_count": null,
   "metadata": {
    "execution": {
     "iopub.execute_input": "2020-07-09T01:57:20.343053Z",
     "iopub.status.busy": "2020-07-09T01:57:20.342347Z",
     "iopub.status.idle": "2020-07-09T01:57:20.345095Z",
     "shell.execute_reply": "2020-07-09T01:57:20.345494Z"
    },
    "papermill": {
     "duration": 0.203749,
     "end_time": "2020-07-09T01:57:20.345709",
     "exception": false,
     "start_time": "2020-07-09T01:57:20.141960",
     "status": "completed"
    },
    "tags": []
   },
   "outputs": [],
   "source": [
    "tax_base_output = pd.concat(\n",
    "    [all_tax_bases[name] for name in all_tax_bases], axis=1\n",
    ")\n",
    "tax_base_output"
   ]
  },
  {
   "cell_type": "code",
   "execution_count": null,
   "metadata": {
    "execution": {
     "iopub.execute_input": "2020-07-09T01:57:20.714723Z",
     "iopub.status.busy": "2020-07-09T01:57:20.713826Z",
     "iopub.status.idle": "2020-07-09T01:57:20.884201Z",
     "shell.execute_reply": "2020-07-09T01:57:20.884639Z"
    },
    "papermill": {
     "duration": 0.349311,
     "end_time": "2020-07-09T01:57:20.884795",
     "exception": false,
     "start_time": "2020-07-09T01:57:20.535484",
     "status": "completed"
    },
    "tags": []
   },
   "outputs": [],
   "source": [
    "tax_base_output.loc[2020:].reset_index().to_excel(\n",
    "    RESULTS_DIR / \"summary\" / \"spreadsheets\" / \"projected_tax_bases.xlsx\", index=False\n",
    ")"
   ]
  },
  {
   "cell_type": "markdown",
   "metadata": {
    "papermill": {
     "duration": 0.222878,
     "end_time": "2020-07-09T01:57:21.291253",
     "exception": false,
     "start_time": "2020-07-09T01:57:21.068375",
     "status": "completed"
    },
    "tags": []
   },
   "source": [
    "## Combined Comparison to Mayor Projections"
   ]
  },
  {
   "cell_type": "code",
   "execution_count": null,
   "metadata": {
    "execution": {
     "iopub.execute_input": "2020-07-09T01:57:21.714320Z",
     "iopub.status.busy": "2020-07-09T01:57:21.702661Z",
     "iopub.status.idle": "2020-07-09T01:57:21.717479Z",
     "shell.execute_reply": "2020-07-09T01:57:21.717944Z"
    },
    "papermill": {
     "duration": 0.231778,
     "end_time": "2020-07-09T01:57:21.718117",
     "exception": false,
     "start_time": "2020-07-09T01:57:21.486339",
     "status": "completed"
    },
    "tags": []
   },
   "outputs": [],
   "source": [
    "combined_comparison = pd.concat(\n",
    "    [all_comparisons[name].assign(name=name) for name in all_comparisons]\n",
    ")\n",
    "combined_comparison"
   ]
  },
  {
   "cell_type": "code",
   "execution_count": null,
   "metadata": {
    "execution": {
     "iopub.execute_input": "2020-07-09T01:57:22.274000Z",
     "iopub.status.busy": "2020-07-09T01:57:22.273034Z",
     "iopub.status.idle": "2020-07-09T01:57:22.293969Z",
     "shell.execute_reply": "2020-07-09T01:57:22.294397Z"
    },
    "papermill": {
     "duration": 0.24899,
     "end_time": "2020-07-09T01:57:22.294551",
     "exception": false,
     "start_time": "2020-07-09T01:57:22.045561",
     "status": "completed"
    },
    "tags": []
   },
   "outputs": [],
   "source": [
    "combined_comparison.reset_index().to_excel(\n",
    "    RESULTS_DIR / \"summary\" / \"spreadsheets\" / \"combined_comparison.xlsx\", index=False\n",
    ")"
   ]
  },
  {
   "cell_type": "markdown",
   "metadata": {
    "papermill": {
     "duration": 0.191605,
     "end_time": "2020-07-09T01:57:22.676311",
     "exception": false,
     "start_time": "2020-07-09T01:57:22.484706",
     "status": "completed"
    },
    "tags": []
   },
   "source": [
    "## Save Endog/Exog Variables"
   ]
  },
  {
   "cell_type": "code",
   "execution_count": null,
   "metadata": {
    "execution": {
     "iopub.execute_input": "2020-07-09T01:57:23.067382Z",
     "iopub.status.busy": "2020-07-09T01:57:23.066772Z",
     "iopub.status.idle": "2020-07-09T01:57:23.072007Z",
     "shell.execute_reply": "2020-07-09T01:57:23.072532Z"
    },
    "papermill": {
     "duration": 0.207194,
     "end_time": "2020-07-09T01:57:23.072680",
     "exception": false,
     "start_time": "2020-07-09T01:57:22.865486",
     "status": "completed"
    },
    "tags": []
   },
   "outputs": [],
   "source": [
    "endog = {}\n",
    "exog = {}\n",
    "\n",
    "for name in all_bestfit_params:\n",
    "    endog[name] = []\n",
    "    exog[name] = []\n",
    "    for fit in all_bestfit_params[name]:\n",
    "        endog[name] += fit['endog_cols']\n",
    "        exog[name] += fit['exog_cols']\n",
    "        \n",
    "    endog[name] = sorted(set(endog[name]))\n",
    "    exog[name] = sorted(set(exog[name]))\n",
    "    \n",
    "    \n",
    "endog = pd.DataFrame(dict([(k, pd.Series(v)) for k, v in endog.items()]))\n",
    "exog = pd.DataFrame(dict([(k, pd.Series(v)) for k, v in exog.items()]))"
   ]
  },
  {
   "cell_type": "code",
   "execution_count": null,
   "metadata": {
    "execution": {
     "iopub.execute_input": "2020-07-09T01:57:23.485744Z",
     "iopub.status.busy": "2020-07-09T01:57:23.485162Z",
     "iopub.status.idle": "2020-07-09T01:57:23.505615Z",
     "shell.execute_reply": "2020-07-09T01:57:23.506193Z"
    },
    "papermill": {
     "duration": 0.230515,
     "end_time": "2020-07-09T01:57:23.506435",
     "exception": false,
     "start_time": "2020-07-09T01:57:23.275920",
     "status": "completed"
    },
    "tags": []
   },
   "outputs": [],
   "source": [
    "with pd.ExcelWriter(\n",
    "    RESULTS_DIR / \"summary\" / \"spreadsheets\" / \"fit_variables.xlsx\"\n",
    ") as writer:\n",
    "\n",
    "    endog.to_excel(writer, sheet_name=\"Endog\", index=False)\n",
    "    exog.to_excel(writer, sheet_name=\"Exog\", index=False)"
   ]
  },
  {
   "cell_type": "markdown",
   "metadata": {
    "papermill": {
     "duration": 0.186113,
     "end_time": "2020-07-09T01:57:23.877548",
     "exception": false,
     "start_time": "2020-07-09T01:57:23.691435",
     "status": "completed"
    },
    "tags": []
   },
   "source": [
    "## Save bestfit params"
   ]
  },
  {
   "cell_type": "code",
   "execution_count": null,
   "metadata": {
    "execution": {
     "iopub.execute_input": "2020-07-09T01:57:24.243731Z",
     "iopub.status.busy": "2020-07-09T01:57:24.242933Z",
     "iopub.status.idle": "2020-07-09T01:57:24.252027Z",
     "shell.execute_reply": "2020-07-09T01:57:24.252637Z"
    },
    "papermill": {
     "duration": 0.196312,
     "end_time": "2020-07-09T01:57:24.252815",
     "exception": false,
     "start_time": "2020-07-09T01:57:24.056503",
     "status": "completed"
    },
    "tags": []
   },
   "outputs": [],
   "source": [
    "pickle.dump(\n",
    "    all_bestfit_params,\n",
    "    (RESULTS_DIR / \"summary\" / \"model_params\" / \"bestfits.pickle\").open(\"wb\"),\n",
    ")"
   ]
  },
  {
   "cell_type": "code",
   "execution_count": null,
   "metadata": {
    "papermill": {
     "duration": 0.191894,
     "end_time": "2020-07-09T01:57:24.627710",
     "exception": false,
     "start_time": "2020-07-09T01:57:24.435816",
     "status": "completed"
    },
    "tags": []
   },
   "outputs": [],
   "source": []
  }
 ],
 "metadata": {
  "kernelspec": {
   "display_name": "FiveYearPlanAnalysis",
   "language": "python",
   "name": "python3"
  },
  "language_info": {
   "codemirror_mode": {
    "name": "ipython",
    "version": 3
   },
   "file_extension": ".py",
   "mimetype": "text/x-python",
   "name": "python",
   "nbconvert_exporter": "python",
   "pygments_lexer": "ipython3",
   "version": "3.7.10"
  },
  "papermill": {
   "duration": 650.321859,
   "end_time": "2020-07-09T01:57:25.436448",
   "environment_variables": {},
   "exception": null,
   "input_path": "/Users/nicholashand/LocalWork/FiveYearPlan/FYP_21_25/Analysis/Projections/modeling.ipynb",
   "output_path": "/Users/nicholashand/LocalWork/FiveYearPlan/FYP_21_25/Analysis/Projections/modeling.ipynb",
   "parameters": {},
   "start_time": "2020-07-09T01:46:35.114589",
   "version": "2.1.2"
  },
  "toc-autonumbering": true,
  "toc-showcode": false,
  "toc-showmarkdowntxt": true
 },
 "nbformat": 4,
 "nbformat_minor": 4
}
