{
 "cells": [
  {
   "cell_type": "markdown",
   "metadata": {
    "papermill": {
     "duration": 0.139638,
     "end_time": "2020-07-09T01:46:36.924518",
     "exception": false,
     "start_time": "2020-07-09T01:46:36.784880",
     "status": "completed"
    },
    "tags": []
   },
   "source": [
    "# Revenue Modeling: BIRT\n",
    "\n",
    "**Purpose:** For the tax revenue of interest, explore forecasts, testing out different combinations of \n",
    "endog and exog variables.\n",
    "\n",
    "Once the best fit is determined, we can plug the parameters into the main \"parameters.yml\" file and run reproducible model fits through the command line using `kedro run`."
   ]
  },
  {
   "cell_type": "markdown",
   "metadata": {},
   "source": [
    "## Software Setup"
   ]
  },
  {
   "cell_type": "markdown",
   "metadata": {},
   "source": [
    "If changes are made to the analysis code, run the below cell to reload the changes:"
   ]
  },
  {
   "cell_type": "code",
   "execution_count": null,
   "metadata": {},
   "outputs": [],
   "source": [
    "%reload_kedro"
   ]
  },
  {
   "cell_type": "markdown",
   "metadata": {},
   "source": [
    "Imports:"
   ]
  },
  {
   "cell_type": "code",
   "execution_count": null,
   "metadata": {},
   "outputs": [],
   "source": [
    "import pandas as pd\n",
    "\n",
    "# Prediction functions\n",
    "from fyp_analysis.pipelines.modeling.predict import (\n",
    "    get_possible_endog_variables,\n",
    "    run_possible_models,\n",
    "    fit_var_model,\n",
    "    plot_forecast_results,\n",
    ")\n",
    "\n",
    "# The main preprocess pipeline\n",
    "from fyp_analysis.pipelines.data_processing.preprocess import PreprocessPipeline\n",
    "from fyp_analysis.extras.datasets import load_cbo_data"
   ]
  },
  {
   "cell_type": "code",
   "execution_count": null,
   "metadata": {},
   "outputs": [],
   "source": [
    "pd.options.display.max_columns = 999"
   ]
  },
  {
   "cell_type": "markdown",
   "metadata": {},
   "source": [
    "## Parameter Setup"
   ]
  },
  {
   "cell_type": "markdown",
   "metadata": {},
   "source": [
    "Set up the data catalog. We can use `DATA.load()` to load specific data instances."
   ]
  },
  {
   "cell_type": "code",
   "execution_count": null,
   "metadata": {},
   "outputs": [],
   "source": [
    "DATA = catalog"
   ]
  },
  {
   "cell_type": "markdown",
   "metadata": {},
   "source": [
    "Available data:"
   ]
  },
  {
   "cell_type": "code",
   "execution_count": null,
   "metadata": {},
   "outputs": [],
   "source": [
    "DATA.list()"
   ]
  },
  {
   "cell_type": "markdown",
   "metadata": {},
   "source": [
    "Load the parameter dict too:"
   ]
  },
  {
   "cell_type": "code",
   "execution_count": null,
   "metadata": {},
   "outputs": [],
   "source": [
    "PARAMS = context.params"
   ]
  },
  {
   "cell_type": "code",
   "execution_count": null,
   "metadata": {
    "papermill": {
     "duration": 0.107041,
     "end_time": "2020-07-09T01:46:39.323680",
     "exception": false,
     "start_time": "2020-07-09T01:46:39.216639",
     "status": "completed"
    },
    "tags": []
   },
   "outputs": [],
   "source": [
    "PARAMS"
   ]
  },
  {
   "cell_type": "markdown",
   "metadata": {},
   "source": [
    "Extract specific parameters:"
   ]
  },
  {
   "cell_type": "code",
   "execution_count": null,
   "metadata": {},
   "outputs": [],
   "source": [
    "# Trim features to this start year\n",
    "min_year = PARAMS[\"min_feature_year\"]\n",
    "\n",
    "# When is the CBO forecast from?\n",
    "cbo_forecast_date = PARAMS[\"cbo_forecast_date\"]\n",
    "\n",
    "# First fiscal year of the plan\n",
    "plan_start_year = PARAMS[\"plan_start_year\"]"
   ]
  },
  {
   "cell_type": "markdown",
   "metadata": {},
   "source": [
    "## Data Setup"
   ]
  },
  {
   "cell_type": "markdown",
   "metadata": {},
   "source": [
    "Load the correlation matrix and Granger's matrix:"
   ]
  },
  {
   "cell_type": "code",
   "execution_count": null,
   "metadata": {},
   "outputs": [],
   "source": [
    "C = DATA.load(\"scaled_feature_correlations\") # correlation matrix\n",
    "G = DATA.load(\"grangers_matrix\") # Grangers matrix"
   ]
  },
  {
   "cell_type": "markdown",
   "metadata": {},
   "source": [
    "Load the final unscaled features:"
   ]
  },
  {
   "cell_type": "code",
   "execution_count": null,
   "metadata": {},
   "outputs": [],
   "source": [
    "unscaled_features = DATA.load(\"final_unscaled_features\")"
   ]
  },
  {
   "cell_type": "code",
   "execution_count": null,
   "metadata": {},
   "outputs": [],
   "source": [
    "unscaled_features.head()"
   ]
  },
  {
   "cell_type": "markdown",
   "metadata": {},
   "source": [
    "The final scaled features:"
   ]
  },
  {
   "cell_type": "code",
   "execution_count": null,
   "metadata": {},
   "outputs": [],
   "source": [
    "scaled_features = DATA.load(\"final_scaled_features\")"
   ]
  },
  {
   "cell_type": "code",
   "execution_count": null,
   "metadata": {},
   "outputs": [],
   "source": [
    "scaled_features.head()"
   ]
  },
  {
   "cell_type": "markdown",
   "metadata": {},
   "source": [
    "Initialize the preprocesser that goes from unscaled to scaled features:"
   ]
  },
  {
   "cell_type": "code",
   "execution_count": null,
   "metadata": {},
   "outputs": [],
   "source": [
    "guide = DATA.load(\"stationary_guide\")\n",
    "preprocess = PreprocessPipeline(guide)"
   ]
  },
  {
   "cell_type": "code",
   "execution_count": null,
   "metadata": {},
   "outputs": [],
   "source": [
    "guide.head()"
   ]
  },
  {
   "cell_type": "markdown",
   "metadata": {},
   "source": [
    "Load the CBO data frame:"
   ]
  },
  {
   "cell_type": "code",
   "execution_count": null,
   "metadata": {},
   "outputs": [],
   "source": [
    "cbo_data = load_cbo_data(date=cbo_forecast_date)\n",
    "cbo_columns = cbo_data.columns.tolist()"
   ]
  },
  {
   "cell_type": "code",
   "execution_count": null,
   "metadata": {},
   "outputs": [],
   "source": [
    "cbo_data.head()"
   ]
  },
  {
   "cell_type": "markdown",
   "metadata": {
    "papermill": {
     "duration": 0.081994,
     "end_time": "2020-07-09T01:46:48.673887",
     "exception": false,
     "start_time": "2020-07-09T01:46:48.591893",
     "status": "completed"
    },
    "tags": []
   },
   "source": [
    "## Forecast: Net Income"
   ]
  },
  {
   "cell_type": "code",
   "execution_count": null,
   "metadata": {},
   "outputs": [],
   "source": [
    "TAX_NAME = \"NetIncome\"\n",
    "TAX_BASE_COLUMN = f\"{TAX_NAME}Base\""
   ]
  },
  {
   "cell_type": "code",
   "execution_count": null,
   "metadata": {},
   "outputs": [],
   "source": [
    "SCALED_COLUMN = [col for col in scaled_features.columns if TAX_BASE_COLUMN in col][0]"
   ]
  },
  {
   "cell_type": "markdown",
   "metadata": {},
   "source": [
    "### Correlations"
   ]
  },
  {
   "cell_type": "code",
   "execution_count": null,
   "metadata": {
    "papermill": {
     "duration": 0.098563,
     "end_time": "2020-07-09T01:46:49.400253",
     "exception": false,
     "start_time": "2020-07-09T01:46:49.301690",
     "status": "completed"
    },
    "tags": []
   },
   "outputs": [],
   "source": [
    "C[SCALED_COLUMN].sort_values().head(n=10)"
   ]
  },
  {
   "cell_type": "code",
   "execution_count": null,
   "metadata": {
    "papermill": {
     "duration": 0.101371,
     "end_time": "2020-07-09T01:46:49.592345",
     "exception": false,
     "start_time": "2020-07-09T01:46:49.490974",
     "status": "completed"
    },
    "tags": []
   },
   "outputs": [],
   "source": [
    "C[SCALED_COLUMN].sort_values().tail(n=10)"
   ]
  },
  {
   "cell_type": "markdown",
   "metadata": {},
   "source": [
    "Load the possible endog variables:"
   ]
  },
  {
   "cell_type": "code",
   "execution_count": null,
   "metadata": {},
   "outputs": [],
   "source": [
    "possible_endog = DATA.load('possible_endog_variables')[SCALED_COLUMN]"
   ]
  },
  {
   "cell_type": "code",
   "execution_count": null,
   "metadata": {},
   "outputs": [],
   "source": [
    "possible_endog"
   ]
  },
  {
   "cell_type": "markdown",
   "metadata": {},
   "source": [
    "### Explore possible fits"
   ]
  },
  {
   "cell_type": "code",
   "execution_count": null,
   "metadata": {
    "papermill": {
     "duration": 68.918069,
     "end_time": "2020-07-09T01:47:58.819366",
     "exception": false,
     "start_time": "2020-07-09T01:46:49.901297",
     "status": "completed"
    },
    "tags": []
   },
   "outputs": [],
   "source": [
    "net_income_fits = run_possible_models(\n",
    "    unscaled_features,\n",
    "    preprocess,\n",
    "    main_endog=TAX_BASE_COLUMN,\n",
    "    other_endog=[\n",
    "        \"ConsumerConfidence\",\n",
    "        \"CorporateProfits\",\n",
    "        \"UnemploymentPhillyMSA\",\n",
    "        \"InitialClaimsPA\",\n",
    "        \"CPIPhillyMSA\",\n",
    "        \"SP500\",\n",
    "        \"GDP\",\n",
    "        \"NonresidentialInvestment\",\n",
    "    ],\n",
    "    orders=[2, 3, 4, 5, 6, 7, 8],\n",
    "    grangers=G,\n",
    "    max_fit_date=[\"2019-12-31\", \"2021-06-30\"],\n",
    "    cbo_columns=cbo_columns,\n",
    "    alpha=0.1,\n",
    "    max_exog=4,\n",
    "    split_year=2014,\n",
    "    max_other_endog=2,\n",
    "    model_quarters=[True, False],\n",
    ")"
   ]
  },
  {
   "cell_type": "code",
   "execution_count": null,
   "metadata": {
    "papermill": {
     "duration": 0.097752,
     "end_time": "2020-07-09T01:47:59.010579",
     "exception": false,
     "start_time": "2020-07-09T01:47:58.912827",
     "status": "completed"
    },
    "tags": []
   },
   "outputs": [],
   "source": [
    "best_params = net_income_fits[0]\n",
    "best_params"
   ]
  },
  {
   "cell_type": "code",
   "execution_count": null,
   "metadata": {
    "papermill": {
     "duration": 0.406433,
     "end_time": "2020-07-09T01:47:59.509777",
     "exception": false,
     "start_time": "2020-07-09T01:47:59.103344",
     "status": "completed"
    },
    "tags": []
   },
   "outputs": [],
   "source": [
    "result, net_income_forecast = fit_var_model(\n",
    "    unscaled_features,\n",
    "    preprocess,\n",
    "    plan_start_year=plan_start_year,\n",
    "    max_fit_date=best_params[\"max_fit_date\"],\n",
    "    cbo_data=cbo_data,\n",
    "    endog_cols=best_params[\"endog_cols\"],\n",
    "    order=best_params[\"order\"],\n",
    "    exog_cols=best_params[\"exog_cols\"],\n",
    "    model_quarters=best_params['model_quarters']\n",
    ")\n",
    "print(result.aic)"
   ]
  },
  {
   "cell_type": "code",
   "execution_count": null,
   "metadata": {
    "papermill": {
     "duration": 0.109039,
     "end_time": "2020-07-09T01:47:59.720595",
     "exception": false,
     "start_time": "2020-07-09T01:47:59.611556",
     "status": "completed"
    },
    "tags": []
   },
   "outputs": [],
   "source": [
    "result.summary()"
   ]
  },
  {
   "cell_type": "code",
   "execution_count": null,
   "metadata": {
    "papermill": {
     "duration": 1.348711,
     "end_time": "2020-07-09T01:48:01.173942",
     "exception": false,
     "start_time": "2020-07-09T01:47:59.825231",
     "status": "completed"
    },
    "tags": []
   },
   "outputs": [],
   "source": [
    "fig = plot_forecast_results(net_income_forecast, TAX_BASE_COLUMN);"
   ]
  },
  {
   "cell_type": "markdown",
   "metadata": {
    "papermill": {
     "duration": 0.081994,
     "end_time": "2020-07-09T01:46:48.673887",
     "exception": false,
     "start_time": "2020-07-09T01:46:48.591893",
     "status": "completed"
    },
    "tags": []
   },
   "source": [
    "## Forecast: Gross Receipts"
   ]
  },
  {
   "cell_type": "code",
   "execution_count": null,
   "metadata": {},
   "outputs": [],
   "source": [
    "TAX_NAME = \"GrossReceipts\"\n",
    "TAX_BASE_COLUMN = f\"{TAX_NAME}Base\""
   ]
  },
  {
   "cell_type": "code",
   "execution_count": null,
   "metadata": {},
   "outputs": [],
   "source": [
    "SCALED_COLUMN = [col for col in scaled_features.columns if TAX_BASE_COLUMN in col][0]"
   ]
  },
  {
   "cell_type": "markdown",
   "metadata": {},
   "source": [
    "### Correlations"
   ]
  },
  {
   "cell_type": "code",
   "execution_count": null,
   "metadata": {
    "papermill": {
     "duration": 0.098563,
     "end_time": "2020-07-09T01:46:49.400253",
     "exception": false,
     "start_time": "2020-07-09T01:46:49.301690",
     "status": "completed"
    },
    "tags": []
   },
   "outputs": [],
   "source": [
    "C[SCALED_COLUMN].sort_values().head(n=10)"
   ]
  },
  {
   "cell_type": "code",
   "execution_count": null,
   "metadata": {
    "papermill": {
     "duration": 0.101371,
     "end_time": "2020-07-09T01:46:49.592345",
     "exception": false,
     "start_time": "2020-07-09T01:46:49.490974",
     "status": "completed"
    },
    "tags": []
   },
   "outputs": [],
   "source": [
    "C[SCALED_COLUMN].sort_values().tail(n=10)"
   ]
  },
  {
   "cell_type": "markdown",
   "metadata": {},
   "source": [
    "Load the possible endog variables:"
   ]
  },
  {
   "cell_type": "code",
   "execution_count": null,
   "metadata": {},
   "outputs": [],
   "source": [
    "possible_endog = DATA.load('possible_endog_variables')[SCALED_COLUMN]"
   ]
  },
  {
   "cell_type": "code",
   "execution_count": null,
   "metadata": {},
   "outputs": [],
   "source": [
    "possible_endog"
   ]
  },
  {
   "cell_type": "markdown",
   "metadata": {},
   "source": [
    "### Explore possible fits"
   ]
  },
  {
   "cell_type": "code",
   "execution_count": null,
   "metadata": {
    "papermill": {
     "duration": 68.918069,
     "end_time": "2020-07-09T01:47:58.819366",
     "exception": false,
     "start_time": "2020-07-09T01:46:49.901297",
     "status": "completed"
    },
    "tags": []
   },
   "outputs": [],
   "source": [
    "gross_receipts_fits = run_possible_models(\n",
    "    unscaled_features,\n",
    "    preprocess,\n",
    "    main_endog=TAX_BASE_COLUMN,\n",
    "    other_endog=[\n",
    "        \"ConsumerConfidence\",\n",
    "        \"CorporateProfits\",\n",
    "        \"RealRetailFoodServiceSales\",\n",
    "        \"CPIPhillyMSA\",\n",
    "        \"CarSales\",\n",
    "        \"PCEPriceIndex\",\n",
    "    ],\n",
    "    orders=[2, 3, 4, 5, 6, 7, 8],\n",
    "    grangers=G,\n",
    "    max_fit_date=[\"2019-12-31\", \"2021-06-30\"],\n",
    "    cbo_columns=cbo_columns,\n",
    "    alpha=0.1,\n",
    "    max_exog=4,\n",
    "    split_year=2014,\n",
    "    max_other_endog=1,\n",
    "    model_quarters=[True, False],\n",
    ")"
   ]
  },
  {
   "cell_type": "code",
   "execution_count": null,
   "metadata": {
    "papermill": {
     "duration": 0.097752,
     "end_time": "2020-07-09T01:47:59.010579",
     "exception": false,
     "start_time": "2020-07-09T01:47:58.912827",
     "status": "completed"
    },
    "tags": []
   },
   "outputs": [],
   "source": [
    "best_params = gross_receipts_fits[0]\n",
    "best_params"
   ]
  },
  {
   "cell_type": "code",
   "execution_count": null,
   "metadata": {
    "papermill": {
     "duration": 0.406433,
     "end_time": "2020-07-09T01:47:59.509777",
     "exception": false,
     "start_time": "2020-07-09T01:47:59.103344",
     "status": "completed"
    },
    "tags": []
   },
   "outputs": [],
   "source": [
    "result, gross_receipts_forecast = fit_var_model(\n",
    "    unscaled_features,\n",
    "    preprocess,\n",
    "    plan_start_year=plan_start_year,\n",
    "    max_fit_date=best_params[\"max_fit_date\"],\n",
    "    cbo_data=cbo_data,\n",
    "    endog_cols=best_params[\"endog_cols\"],\n",
    "    order=best_params[\"order\"],\n",
    "    exog_cols=best_params[\"exog_cols\"],\n",
    "    model_quarters=best_params[\"model_quarters\"],\n",
    ")\n",
    "print(result.aic)"
   ]
  },
  {
   "cell_type": "code",
   "execution_count": null,
   "metadata": {
    "papermill": {
     "duration": 0.109039,
     "end_time": "2020-07-09T01:47:59.720595",
     "exception": false,
     "start_time": "2020-07-09T01:47:59.611556",
     "status": "completed"
    },
    "tags": []
   },
   "outputs": [],
   "source": [
    "result.summary()"
   ]
  },
  {
   "cell_type": "code",
   "execution_count": null,
   "metadata": {
    "papermill": {
     "duration": 1.348711,
     "end_time": "2020-07-09T01:48:01.173942",
     "exception": false,
     "start_time": "2020-07-09T01:47:59.825231",
     "status": "completed"
    },
    "tags": []
   },
   "outputs": [],
   "source": [
    "fig = plot_forecast_results(gross_receipts_forecast, TAX_BASE_COLUMN);"
   ]
  },
  {
   "cell_type": "code",
   "execution_count": null,
   "metadata": {},
   "outputs": [],
   "source": []
  },
  {
   "cell_type": "code",
   "execution_count": null,
   "metadata": {},
   "outputs": [],
   "source": []
  }
 ],
 "metadata": {
  "kernelspec": {
   "display_name": "FiveYearPlanAnalysis",
   "language": "python",
   "name": "python3"
  },
  "language_info": {
   "codemirror_mode": {
    "name": "ipython",
    "version": 3
   },
   "file_extension": ".py",
   "mimetype": "text/x-python",
   "name": "python",
   "nbconvert_exporter": "python",
   "pygments_lexer": "ipython3",
   "version": "3.7.10"
  },
  "papermill": {
   "duration": 650.321859,
   "end_time": "2020-07-09T01:57:25.436448",
   "environment_variables": {},
   "exception": null,
   "input_path": "/Users/nicholashand/LocalWork/FiveYearPlan/FYP_21_25/Analysis/Projections/modeling.ipynb",
   "output_path": "/Users/nicholashand/LocalWork/FiveYearPlan/FYP_21_25/Analysis/Projections/modeling.ipynb",
   "parameters": {},
   "start_time": "2020-07-09T01:46:35.114589",
   "version": "2.1.2"
  },
  "toc-autonumbering": false,
  "toc-showcode": false,
  "toc-showmarkdowntxt": true
 },
 "nbformat": 4,
 "nbformat_minor": 4
}
